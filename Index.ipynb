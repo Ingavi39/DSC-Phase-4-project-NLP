{
 "cells": [
  {
   "cell_type": "markdown",
   "metadata": {},
   "source": [
    "# Sentiment Analysis on Tweets about Brands and Products\n",
    "\n",
    "\n",
    "- Names: \n",
    "    - Ingavi Kilavuka\n",
    "    - Calvin Omwega\n",
    "    - Alvin Kimathi\n",
    "    - Ronny Kabiru\n",
    "- Instructor: Maryann Mwikali\n",
    "- Modeling Focus: NLP(Natural Language Processing)\n"
   ]
  },
  {
   "cell_type": "markdown",
   "metadata": {},
   "source": [
    "## Objective"
   ]
  },
  {
   "cell_type": "markdown",
   "metadata": {},
   "source": [
    "\n",
    "To analyze the sentiment of tweets directed at various brands and products to understand public perception. This will involve determining whether the sentiment expressed in tweets is positive, negative, or neutral and identifying the specific brands and products mentioned.\n"
   ]
  },
  {
   "cell_type": "markdown",
   "metadata": {},
   "source": [
    "### Problem Definition"
   ]
  },
  {
   "cell_type": "markdown",
   "metadata": {},
   "source": [
    "In the age of social media, understanding public sentiment towards brands and products is crucial for businesses. This project aims to:\n",
    "1. **Identify the Sentiment**: Determine whether the sentiment expressed in each tweet is positive, negative, or neutral.\n",
    "2. **Target Identification**: Identify the specific brand or product that the sentiment is directed towards.\n",
    "3. **Trends and Insights**: Derive insights and trends regarding public perception of various brands and products.\n"
   ]
  },
  {
   "cell_type": "markdown",
   "metadata": {},
   "source": [
    "Research Questions:\n",
    "1. **Sentiment Classification**: What is the distribution of positive, negative, and neutral sentiments across the dataset?\n",
    "2. **Brand/Product Association**: Which brands and products are most frequently mentioned, and what is the associated sentiment for each?\n",
    "3. **Temporal Trends**: Are there any notable trends in sentiment over time for specific brands or products?"
   ]
  },
  {
   "cell_type": "markdown",
   "metadata": {},
   "source": [
    "## Data Understanding"
   ]
  },
  {
   "cell_type": "code",
   "execution_count": 7,
   "metadata": {},
   "outputs": [],
   "source": [
    "# import necessary libraries\n",
    "import re\n",
    "import string\n",
    "import nltk\n",
    "import pandas as pd\n",
    "import numpy as np\n",
    "from textblob import TextBlob\n",
    "from collections import Counter\n",
    "import matplotlib.pyplot as plt\n",
    "from nltk.corpus import stopwords\n",
    "from tensorflow.keras.preprocessing.text import Tokenizer\n",
    "from sklearn.feature_extraction.text import TfidfVectorizer\n",
    "from keras.utils import to_categorical\n",
    "from tensorflow.keras.preprocessing.sequence import pad_sequences\n",
    "from sklearn.model_selection import train_test_split\n",
    "from keras.preprocessing.sequence import pad_sequences\n",
    "from keras.layers import Embedding, LSTM, Dense, GRU\n",
    "from keras.models import Sequential\n",
    "from sklearn.model_selection import GridSearchCV\n",
    "from keras.models import Sequential\n",
    "from keras.layers import Embedding, LSTM, Dense\n",
    "from keras.optimizers import Adam\n",
    "# from scikeras.wrappers import KerasClassifier "
   ]
  },
  {
   "cell_type": "code",
   "execution_count": 8,
   "metadata": {},
   "outputs": [],
   "source": [
    "# Load the dataset\n",
    "df = pd.read_csv('judge_1377884607_tweet_product_company.csv')"
   ]
  },
  {
   "cell_type": "code",
   "execution_count": 9,
   "metadata": {},
   "outputs": [
    {
     "data": {
      "text/plain": [
       "(8721, 3)"
      ]
     },
     "execution_count": 9,
     "metadata": {},
     "output_type": "execute_result"
    }
   ],
   "source": [
    "df.shape"
   ]
  },
  {
   "cell_type": "code",
   "execution_count": 10,
   "metadata": {},
   "outputs": [
    {
     "name": "stdout",
     "output_type": "stream",
     "text": [
      "Column Names:\n",
      "['tweet_text', 'emotion_in_tweet_is_directed_at', 'is_there_an_emotion_directed_at_a_brand_or_product']\n",
      "\n",
      "\n",
      "Data Types:\n",
      "tweet_text                                            object\n",
      "emotion_in_tweet_is_directed_at                       object\n",
      "is_there_an_emotion_directed_at_a_brand_or_product    object\n",
      "dtype: object\n",
      "\n",
      "\n",
      "Shape of the DataFrame:\n",
      "Rows: 8721, Columns: 3\n",
      "\n",
      "\n",
      "DataFrame Info:\n",
      "<class 'pandas.core.frame.DataFrame'>\n",
      "RangeIndex: 8721 entries, 0 to 8720\n",
      "Data columns (total 3 columns):\n",
      " #   Column                                              Non-Null Count  Dtype \n",
      "---  ------                                              --------------  ----- \n",
      " 0   tweet_text                                          8720 non-null   object\n",
      " 1   emotion_in_tweet_is_directed_at                     3169 non-null   object\n",
      " 2   is_there_an_emotion_directed_at_a_brand_or_product  8721 non-null   object\n",
      "dtypes: object(3)\n",
      "memory usage: 204.5+ KB\n",
      "\n",
      "\n",
      "Descriptive Statistics:\n",
      "                                               tweet_text  \\\n",
      "count                                                8720   \n",
      "unique                                               8693   \n",
      "top     RT @mention Marissa Mayer: Google Will Connect...   \n",
      "freq                                                    5   \n",
      "\n",
      "       emotion_in_tweet_is_directed_at  \\\n",
      "count                             3169   \n",
      "unique                               9   \n",
      "top                               iPad   \n",
      "freq                               910   \n",
      "\n",
      "       is_there_an_emotion_directed_at_a_brand_or_product  \n",
      "count                                                8721  \n",
      "unique                                                  4  \n",
      "top                    No emotion toward brand or product  \n",
      "freq                                                 5156  \n",
      "\n",
      "\n",
      "Missing Values (Percentage):\n",
      "tweet_text                                             0.011467\n",
      "emotion_in_tweet_is_directed_at                       63.662424\n",
      "is_there_an_emotion_directed_at_a_brand_or_product     0.000000\n",
      "dtype: float64\n",
      "\n",
      "\n",
      "Categorical Data Summary:\n",
      "                                               tweet_text  \\\n",
      "count                                                8720   \n",
      "unique                                               8693   \n",
      "top     RT @mention Marissa Mayer: Google Will Connect...   \n",
      "freq                                                    5   \n",
      "\n",
      "       emotion_in_tweet_is_directed_at  \\\n",
      "count                             3169   \n",
      "unique                               9   \n",
      "top                               iPad   \n",
      "freq                               910   \n",
      "\n",
      "       is_there_an_emotion_directed_at_a_brand_or_product  \n",
      "count                                                8721  \n",
      "unique                                                  4  \n",
      "top                    No emotion toward brand or product  \n",
      "freq                                                 5156  \n",
      "\n",
      "\n",
      "Value Counts for Categorical Columns:\n",
      "Column: tweet_text\n",
      "RT @mention Marissa Mayer: Google Will Connect the Digital &amp; Physical Worlds Through Mobile - {link} #sxsw                            5\n",
      "RT @mention Google to Launch Major New Social Network Called Circles, Possibly Today {link} #sxsw                                         4\n",
      "RT @mention Marissa Mayer: Google Will Connect the Digital &amp; Physical Worlds Through Mobile - {link} #SXSW                            4\n",
      "RT @mention Google to Launch Major New Social Network Called Circles, Possibly Today {link} #SXSW                                         3\n",
      "RT @mention ��� GO BEYOND BORDERS! ��_ {link} ��_ #edchat #musedchat #sxsw #sxswi #classical #newTwitter                                  2\n",
      "                                                                                                                                         ..\n",
      "RT @mention HootSuite Mobile for #SXSW ~ Updates for iPhone, BlackBerry &amp; Android {link} via @mention                                 1\n",
      "Thewildernessdowntown.com Best of Show at SXSW. Google's Thomas Gayno:  &quot;it is like a choreography of browser windows&quot; #SXSW    1\n",
      "RT @mention Per this rumor, Google may preview its big social strategy @mention '80s-themed costume party at #SXSW. Yep. {link} #cnet     1\n",
      "RT @mention Less than 2 hours until we announce the details on the iPad 2 giveaway! #SXSW #SXSWi                                          1\n",
      "NaN                                                                                                                                       1\n",
      "Name: tweet_text, Length: 8694, dtype: int64\n",
      "\n",
      "\n",
      "Column: emotion_in_tweet_is_directed_at\n",
      "NaN                                5552\n",
      "iPad                                910\n",
      "Apple                               640\n",
      "iPad or iPhone App                  451\n",
      "Google                              412\n",
      "iPhone                              288\n",
      "Other Google product or service     282\n",
      "Android App                          78\n",
      "Android                              74\n",
      "Other Apple product or service       34\n",
      "Name: emotion_in_tweet_is_directed_at, dtype: int64\n",
      "\n",
      "\n",
      "Column: is_there_an_emotion_directed_at_a_brand_or_product\n",
      "No emotion toward brand or product    5156\n",
      "Positive emotion                      2869\n",
      "Negative emotion                       545\n",
      "I can't tell                           151\n",
      "Name: is_there_an_emotion_directed_at_a_brand_or_product, dtype: int64\n",
      "\n",
      "\n"
     ]
    }
   ],
   "source": [
    "def explore_dataset(df):\n",
    "    # Display column names\n",
    "    print(\"Column Names:\")\n",
    "    print(df.columns.tolist())\n",
    "    print(\"\\n\")\n",
    "\n",
    "    # Display data types\n",
    "    print(\"Data Types:\")\n",
    "    print(df.dtypes)\n",
    "    print(\"\\n\")\n",
    "\n",
    "    # Display number of rows and columns\n",
    "    print(\"Shape of the DataFrame:\")\n",
    "    print(f\"Rows: {df.shape[0]}, Columns: {df.shape[1]}\")\n",
    "    print(\"\\n\")\n",
    "\n",
    "    # DataFrame info\n",
    "    print(\"DataFrame Info:\")\n",
    "    df.info()\n",
    "    print(\"\\n\")\n",
    "\n",
    "    # Descriptive statistics for numerical columns\n",
    "    print(\"Descriptive Statistics:\")\n",
    "    print(df.describe())\n",
    "    print(\"\\n\")\n",
    "\n",
    "    # Missing values summary\n",
    "    print(\"Missing Values (Percentage):\")\n",
    "    missing_values_percentage = (df.isnull().sum() / len(df)) * 100\n",
    "    print(missing_values_percentage)\n",
    "    print(\"\\n\")\n",
    "\n",
    "    # Display summary statistics for categorical columns\n",
    "    print(\"Categorical Data Summary:\")\n",
    "    categorical_summary = df.select_dtypes(include=['object']).describe()\n",
    "    print(categorical_summary)\n",
    "    print(\"\\n\")\n",
    "\n",
    "    # Value counts for categorical columns\n",
    "    print(\"Value Counts for Categorical Columns:\")\n",
    "    for column in df.select_dtypes(include=['object']).columns:\n",
    "        print(f\"Column: {column}\")\n",
    "        print(df[column].value_counts(dropna=False))\n",
    "        print(\"\\n\")\n",
    "\n",
    "explore_dataset(df)"
   ]
  },
  {
   "cell_type": "markdown",
   "metadata": {},
   "source": [
    "## Data Cleaning and Preprocessing"
   ]
  },
  {
   "cell_type": "code",
   "execution_count": 11,
   "metadata": {},
   "outputs": [],
   "source": [
    "#Drop any rows with missing values\n",
    "df.dropna(subset=['tweet_text'], inplace=True)\n",
    "#Drop any duplicate values\n",
    "df.drop_duplicates(subset=['tweet_text'], inplace=True)\n"
   ]
  },
  {
   "cell_type": "code",
   "execution_count": 12,
   "metadata": {},
   "outputs": [
    {
     "data": {
      "text/html": [
       "<div>\n",
       "<style scoped>\n",
       "    .dataframe tbody tr th:only-of-type {\n",
       "        vertical-align: middle;\n",
       "    }\n",
       "\n",
       "    .dataframe tbody tr th {\n",
       "        vertical-align: top;\n",
       "    }\n",
       "\n",
       "    .dataframe thead th {\n",
       "        text-align: right;\n",
       "    }\n",
       "</style>\n",
       "<table border=\"1\" class=\"dataframe\">\n",
       "  <thead>\n",
       "    <tr style=\"text-align: right;\">\n",
       "      <th></th>\n",
       "      <th>tweet_text</th>\n",
       "      <th>cleaned_text</th>\n",
       "    </tr>\n",
       "  </thead>\n",
       "  <tbody>\n",
       "    <tr>\n",
       "      <th>0</th>\n",
       "      <td>.@wesley83 I have a 3G iPhone. After 3 hrs twe...</td>\n",
       "      <td>.@wesley83 I have a 3G iPhone. After 3 hrs twe...</td>\n",
       "    </tr>\n",
       "    <tr>\n",
       "      <th>1</th>\n",
       "      <td>@jessedee Know about @fludapp ? Awesome iPad/i...</td>\n",
       "      <td>@jessedee Know about @fludapp ? Awesome iPad/i...</td>\n",
       "    </tr>\n",
       "    <tr>\n",
       "      <th>2</th>\n",
       "      <td>@swonderlin Can not wait for #iPad 2 also. The...</td>\n",
       "      <td>@swonderlin Can not wait for #iPad 2 also. The...</td>\n",
       "    </tr>\n",
       "    <tr>\n",
       "      <th>3</th>\n",
       "      <td>@sxsw I hope this year's festival isn't as cra...</td>\n",
       "      <td>@sxsw I hope this year's festival isn't as cra...</td>\n",
       "    </tr>\n",
       "    <tr>\n",
       "      <th>4</th>\n",
       "      <td>@sxtxstate great stuff on Fri #SXSW: Marissa M...</td>\n",
       "      <td>@sxtxstate great stuff on Fri #SXSW: Marissa M...</td>\n",
       "    </tr>\n",
       "  </tbody>\n",
       "</table>\n",
       "</div>"
      ],
      "text/plain": [
       "                                          tweet_text  \\\n",
       "0  .@wesley83 I have a 3G iPhone. After 3 hrs twe...   \n",
       "1  @jessedee Know about @fludapp ? Awesome iPad/i...   \n",
       "2  @swonderlin Can not wait for #iPad 2 also. The...   \n",
       "3  @sxsw I hope this year's festival isn't as cra...   \n",
       "4  @sxtxstate great stuff on Fri #SXSW: Marissa M...   \n",
       "\n",
       "                                        cleaned_text  \n",
       "0  .@wesley83 I have a 3G iPhone. After 3 hrs twe...  \n",
       "1  @jessedee Know about @fludapp ? Awesome iPad/i...  \n",
       "2  @swonderlin Can not wait for #iPad 2 also. The...  \n",
       "3  @sxsw I hope this year's festival isn't as cra...  \n",
       "4  @sxtxstate great stuff on Fri #SXSW: Marissa M...  "
      ]
     },
     "execution_count": 12,
     "metadata": {},
     "output_type": "execute_result"
    }
   ],
   "source": [
    "#Removing Urls\n",
    "def remove_urls(text):\n",
    "    url_pattern = re.compile(r'https?://\\S+|www\\.\\S+')\n",
    "    return url_pattern.sub(r'', text)\n",
    "\n",
    "# Apply the function to the tweet column\n",
    "df['cleaned_text'] = df['tweet_text'].apply(remove_urls)\n",
    "\n",
    "# Display the first few rows to verify the changes\n",
    "df[['tweet_text', 'cleaned_text']].head()"
   ]
  },
  {
   "cell_type": "code",
   "execution_count": 13,
   "metadata": {},
   "outputs": [
    {
     "data": {
      "text/html": [
       "<div>\n",
       "<style scoped>\n",
       "    .dataframe tbody tr th:only-of-type {\n",
       "        vertical-align: middle;\n",
       "    }\n",
       "\n",
       "    .dataframe tbody tr th {\n",
       "        vertical-align: top;\n",
       "    }\n",
       "\n",
       "    .dataframe thead th {\n",
       "        text-align: right;\n",
       "    }\n",
       "</style>\n",
       "<table border=\"1\" class=\"dataframe\">\n",
       "  <thead>\n",
       "    <tr style=\"text-align: right;\">\n",
       "      <th></th>\n",
       "      <th>tweet_text</th>\n",
       "      <th>cleaned_text</th>\n",
       "    </tr>\n",
       "  </thead>\n",
       "  <tbody>\n",
       "    <tr>\n",
       "      <th>0</th>\n",
       "      <td>.@wesley83 I have a 3G iPhone. After 3 hrs twe...</td>\n",
       "      <td>wesley83 I have a 3G iPhone After 3 hrs tweeti...</td>\n",
       "    </tr>\n",
       "    <tr>\n",
       "      <th>1</th>\n",
       "      <td>@jessedee Know about @fludapp ? Awesome iPad/i...</td>\n",
       "      <td>jessedee Know about fludapp  Awesome iPadiPhon...</td>\n",
       "    </tr>\n",
       "    <tr>\n",
       "      <th>2</th>\n",
       "      <td>@swonderlin Can not wait for #iPad 2 also. The...</td>\n",
       "      <td>swonderlin Can not wait for iPad 2 also They s...</td>\n",
       "    </tr>\n",
       "    <tr>\n",
       "      <th>3</th>\n",
       "      <td>@sxsw I hope this year's festival isn't as cra...</td>\n",
       "      <td>sxsw I hope this years festival isnt as crashy...</td>\n",
       "    </tr>\n",
       "    <tr>\n",
       "      <th>4</th>\n",
       "      <td>@sxtxstate great stuff on Fri #SXSW: Marissa M...</td>\n",
       "      <td>sxtxstate great stuff on Fri SXSW Marissa Maye...</td>\n",
       "    </tr>\n",
       "  </tbody>\n",
       "</table>\n",
       "</div>"
      ],
      "text/plain": [
       "                                          tweet_text  \\\n",
       "0  .@wesley83 I have a 3G iPhone. After 3 hrs twe...   \n",
       "1  @jessedee Know about @fludapp ? Awesome iPad/i...   \n",
       "2  @swonderlin Can not wait for #iPad 2 also. The...   \n",
       "3  @sxsw I hope this year's festival isn't as cra...   \n",
       "4  @sxtxstate great stuff on Fri #SXSW: Marissa M...   \n",
       "\n",
       "                                        cleaned_text  \n",
       "0  wesley83 I have a 3G iPhone After 3 hrs tweeti...  \n",
       "1  jessedee Know about fludapp  Awesome iPadiPhon...  \n",
       "2  swonderlin Can not wait for iPad 2 also They s...  \n",
       "3  sxsw I hope this years festival isnt as crashy...  \n",
       "4  sxtxstate great stuff on Fri SXSW Marissa Maye...  "
      ]
     },
     "execution_count": 13,
     "metadata": {},
     "output_type": "execute_result"
    }
   ],
   "source": [
    "#Removing special characters\n",
    "def remove_special_characters(text):\n",
    "    return re.sub(r'[^a-zA-Z0-9\\s]', '', text)\n",
    "\n",
    "# Apply the function to the cleaned_text column\n",
    "df['cleaned_text'] = df['cleaned_text'].apply(remove_special_characters)\n",
    "\n",
    "# Display the first few rows to verify the changes\n",
    "df[['tweet_text', 'cleaned_text']].head()"
   ]
  },
  {
   "cell_type": "code",
   "execution_count": 14,
   "metadata": {},
   "outputs": [
    {
     "name": "stderr",
     "output_type": "stream",
     "text": [
      "[nltk_data] Downloading package stopwords to\n",
      "[nltk_data]     /Users/calvinomwega/nltk_data...\n",
      "[nltk_data]   Package stopwords is already up-to-date!\n"
     ]
    },
    {
     "data": {
      "text/html": [
       "<div>\n",
       "<style scoped>\n",
       "    .dataframe tbody tr th:only-of-type {\n",
       "        vertical-align: middle;\n",
       "    }\n",
       "\n",
       "    .dataframe tbody tr th {\n",
       "        vertical-align: top;\n",
       "    }\n",
       "\n",
       "    .dataframe thead th {\n",
       "        text-align: right;\n",
       "    }\n",
       "</style>\n",
       "<table border=\"1\" class=\"dataframe\">\n",
       "  <thead>\n",
       "    <tr style=\"text-align: right;\">\n",
       "      <th></th>\n",
       "      <th>tweet_text</th>\n",
       "      <th>cleaned_text</th>\n",
       "    </tr>\n",
       "  </thead>\n",
       "  <tbody>\n",
       "    <tr>\n",
       "      <th>0</th>\n",
       "      <td>.@wesley83 I have a 3G iPhone. After 3 hrs twe...</td>\n",
       "      <td>wesley83 3G iPhone 3 hrs tweeting RISEAustin d...</td>\n",
       "    </tr>\n",
       "    <tr>\n",
       "      <th>1</th>\n",
       "      <td>@jessedee Know about @fludapp ? Awesome iPad/i...</td>\n",
       "      <td>jessedee Know fludapp Awesome iPadiPhone app y...</td>\n",
       "    </tr>\n",
       "    <tr>\n",
       "      <th>2</th>\n",
       "      <td>@swonderlin Can not wait for #iPad 2 also. The...</td>\n",
       "      <td>swonderlin wait iPad 2 also sale SXSW</td>\n",
       "    </tr>\n",
       "    <tr>\n",
       "      <th>3</th>\n",
       "      <td>@sxsw I hope this year's festival isn't as cra...</td>\n",
       "      <td>sxsw hope years festival isnt crashy years iPh...</td>\n",
       "    </tr>\n",
       "    <tr>\n",
       "      <th>4</th>\n",
       "      <td>@sxtxstate great stuff on Fri #SXSW: Marissa M...</td>\n",
       "      <td>sxtxstate great stuff Fri SXSW Marissa Mayer G...</td>\n",
       "    </tr>\n",
       "  </tbody>\n",
       "</table>\n",
       "</div>"
      ],
      "text/plain": [
       "                                          tweet_text  \\\n",
       "0  .@wesley83 I have a 3G iPhone. After 3 hrs twe...   \n",
       "1  @jessedee Know about @fludapp ? Awesome iPad/i...   \n",
       "2  @swonderlin Can not wait for #iPad 2 also. The...   \n",
       "3  @sxsw I hope this year's festival isn't as cra...   \n",
       "4  @sxtxstate great stuff on Fri #SXSW: Marissa M...   \n",
       "\n",
       "                                        cleaned_text  \n",
       "0  wesley83 3G iPhone 3 hrs tweeting RISEAustin d...  \n",
       "1  jessedee Know fludapp Awesome iPadiPhone app y...  \n",
       "2              swonderlin wait iPad 2 also sale SXSW  \n",
       "3  sxsw hope years festival isnt crashy years iPh...  \n",
       "4  sxtxstate great stuff Fri SXSW Marissa Mayer G...  "
      ]
     },
     "execution_count": 14,
     "metadata": {},
     "output_type": "execute_result"
    }
   ],
   "source": [
    "#Removing Stopwords\n",
    "# Download stopwords from NLTK\n",
    "nltk.download('stopwords')\n",
    "stop_words = set(stopwords.words('english'))\n",
    "\n",
    "def remove_stopwords(text):\n",
    "    return ' '.join([word for word in text.split() if word.lower() not in stop_words])\n",
    "\n",
    "# Apply the function to the cleaned_text column\n",
    "df['cleaned_text'] = df['cleaned_text'].apply(remove_stopwords)\n",
    "\n",
    "# Display the first few rows to verify the changes\n",
    "df[['tweet_text', 'cleaned_text']].head()"
   ]
  },
  {
   "cell_type": "code",
   "execution_count": 15,
   "metadata": {},
   "outputs": [
    {
     "name": "stderr",
     "output_type": "stream",
     "text": [
      "[nltk_data] Downloading package punkt to\n",
      "[nltk_data]     /Users/calvinomwega/nltk_data...\n",
      "[nltk_data]   Package punkt is already up-to-date!\n"
     ]
    },
    {
     "data": {
      "text/html": [
       "<div>\n",
       "<style scoped>\n",
       "    .dataframe tbody tr th:only-of-type {\n",
       "        vertical-align: middle;\n",
       "    }\n",
       "\n",
       "    .dataframe tbody tr th {\n",
       "        vertical-align: top;\n",
       "    }\n",
       "\n",
       "    .dataframe thead th {\n",
       "        text-align: right;\n",
       "    }\n",
       "</style>\n",
       "<table border=\"1\" class=\"dataframe\">\n",
       "  <thead>\n",
       "    <tr style=\"text-align: right;\">\n",
       "      <th></th>\n",
       "      <th>tweet_text</th>\n",
       "      <th>cleaned_text</th>\n",
       "      <th>tokens</th>\n",
       "    </tr>\n",
       "  </thead>\n",
       "  <tbody>\n",
       "    <tr>\n",
       "      <th>0</th>\n",
       "      <td>.@wesley83 I have a 3G iPhone. After 3 hrs twe...</td>\n",
       "      <td>wesley83 3G iPhone 3 hrs tweeting RISEAustin d...</td>\n",
       "      <td>[wesley83, 3G, iPhone, 3, hrs, tweeting, RISEA...</td>\n",
       "    </tr>\n",
       "    <tr>\n",
       "      <th>1</th>\n",
       "      <td>@jessedee Know about @fludapp ? Awesome iPad/i...</td>\n",
       "      <td>jessedee Know fludapp Awesome iPadiPhone app y...</td>\n",
       "      <td>[jessedee, Know, fludapp, Awesome, iPadiPhone,...</td>\n",
       "    </tr>\n",
       "    <tr>\n",
       "      <th>2</th>\n",
       "      <td>@swonderlin Can not wait for #iPad 2 also. The...</td>\n",
       "      <td>swonderlin wait iPad 2 also sale SXSW</td>\n",
       "      <td>[swonderlin, wait, iPad, 2, also, sale, SXSW]</td>\n",
       "    </tr>\n",
       "    <tr>\n",
       "      <th>3</th>\n",
       "      <td>@sxsw I hope this year's festival isn't as cra...</td>\n",
       "      <td>sxsw hope years festival isnt crashy years iPh...</td>\n",
       "      <td>[sxsw, hope, years, festival, isnt, crashy, ye...</td>\n",
       "    </tr>\n",
       "    <tr>\n",
       "      <th>4</th>\n",
       "      <td>@sxtxstate great stuff on Fri #SXSW: Marissa M...</td>\n",
       "      <td>sxtxstate great stuff Fri SXSW Marissa Mayer G...</td>\n",
       "      <td>[sxtxstate, great, stuff, Fri, SXSW, Marissa, ...</td>\n",
       "    </tr>\n",
       "  </tbody>\n",
       "</table>\n",
       "</div>"
      ],
      "text/plain": [
       "                                          tweet_text  \\\n",
       "0  .@wesley83 I have a 3G iPhone. After 3 hrs twe...   \n",
       "1  @jessedee Know about @fludapp ? Awesome iPad/i...   \n",
       "2  @swonderlin Can not wait for #iPad 2 also. The...   \n",
       "3  @sxsw I hope this year's festival isn't as cra...   \n",
       "4  @sxtxstate great stuff on Fri #SXSW: Marissa M...   \n",
       "\n",
       "                                        cleaned_text  \\\n",
       "0  wesley83 3G iPhone 3 hrs tweeting RISEAustin d...   \n",
       "1  jessedee Know fludapp Awesome iPadiPhone app y...   \n",
       "2              swonderlin wait iPad 2 also sale SXSW   \n",
       "3  sxsw hope years festival isnt crashy years iPh...   \n",
       "4  sxtxstate great stuff Fri SXSW Marissa Mayer G...   \n",
       "\n",
       "                                              tokens  \n",
       "0  [wesley83, 3G, iPhone, 3, hrs, tweeting, RISEA...  \n",
       "1  [jessedee, Know, fludapp, Awesome, iPadiPhone,...  \n",
       "2      [swonderlin, wait, iPad, 2, also, sale, SXSW]  \n",
       "3  [sxsw, hope, years, festival, isnt, crashy, ye...  \n",
       "4  [sxtxstate, great, stuff, Fri, SXSW, Marissa, ...  "
      ]
     },
     "execution_count": 15,
     "metadata": {},
     "output_type": "execute_result"
    }
   ],
   "source": [
    "from nltk.tokenize import word_tokenize\n",
    "\n",
    "# Download punkt for tokenization\n",
    "nltk.download('punkt')\n",
    "\n",
    "def tokenize_text(text):\n",
    "    return word_tokenize(text)\n",
    "\n",
    "# Apply the function to the cleaned_text column\n",
    "df['tokens'] = df['cleaned_text'].apply(tokenize_text)\n",
    "\n",
    "# Display the first few rows to verify the changes\n",
    "df[['tweet_text', 'cleaned_text', 'tokens']].head()\n"
   ]
  },
  {
   "cell_type": "markdown",
   "metadata": {},
   "source": [
    "## Exploratory Data Analysis"
   ]
  },
  {
   "cell_type": "markdown",
   "metadata": {},
   "source": [
    "### Sentiment Analysis"
   ]
  },
  {
   "cell_type": "code",
   "execution_count": 16,
   "metadata": {},
   "outputs": [
    {
     "name": "stdout",
     "output_type": "stream",
     "text": [
      "Counter({'Positive': 4283, 'Neutral': 3219, 'Negative': 1191})\n"
     ]
    }
   ],
   "source": [
    "# Perform sentiment analysis and create a frequency table\n",
    "def analyze_sentiments_and_plot_frequency(df, tweet_text):\n",
    "    # Creating a TextBlob object for each tweet and calculate sentiment\n",
    "    df['sentiment'] = df[tweet_text].apply(lambda x: TextBlob(x).sentiment.polarity)\n",
    "    \n",
    "    # Define sentiment labels\n",
    "    def get_sentiment_label(sentiment):\n",
    "        if sentiment > 0:\n",
    "            return 'Positive'\n",
    "        elif sentiment < 0:\n",
    "            return 'Negative'\n",
    "        else:\n",
    "            return 'Neutral'\n",
    "    \n",
    "    df['sentiment_label'] = df['sentiment'].apply(get_sentiment_label)\n",
    "    \n",
    "    # Create a frequency table for sentiment labels\n",
    "    sentiment_counts = Counter(df['sentiment_label'])\n",
    "    return sentiment_counts\n",
    "\n",
    "sentiment_counts = analyze_sentiments_and_plot_frequency(df, 'tweet_text')\n",
    "analyze_sentiments_and_plot_frequency(df, 'tweet_text')\n",
    "print(sentiment_counts)"
   ]
  },
  {
   "cell_type": "markdown",
   "metadata": {},
   "source": [
    "#### Distribution Of Sentiments"
   ]
  },
  {
   "cell_type": "code",
   "execution_count": 17,
   "metadata": {},
   "outputs": [
    {
     "data": {
      "image/png": "[encoded data removed]",
      "text/plain": [
       "<Figure size 576x432 with 1 Axes>"
      ]
     },
     "metadata": {
      "needs_background": "light"
     },
     "output_type": "display_data"
    }
   ],
   "source": [
    "# Define colors for the bar plot\n",
    "colors = {\n",
    "    'Positive': '#9b7179',\n",
    "    'Negative': '#cda2aa',\n",
    "    'Neutral': '#e5b5be'\n",
    "}\n",
    "\n",
    "# Plot a bar graph for sentiment frequency with a legend\n",
    "plt.figure(figsize=(8, 6))\n",
    "bars = plt.bar(sentiment_counts.keys(), sentiment_counts.values(), color=[colors[label] for label in sentiment_counts.keys()])\n",
    "\n",
    "# Add legend\n",
    "for bar, label in zip(bars, sentiment_counts.keys()):\n",
    "    bar.set_label(label)\n",
    "plt.legend()\n",
    "\n",
    "plt.xlabel('Sentiment')\n",
    "plt.ylabel('Frequency')\n",
    "plt.title('Sentiment Analysis')\n",
    "plt.show()"
   ]
  },
  {
   "cell_type": "code",
   "execution_count": 18,
   "metadata": {},
   "outputs": [
    {
     "data": {
      "text/plain": [
       "(iPad                               907\n",
       " Apple                              638\n",
       " iPad or iPhone App                 450\n",
       " Google                             410\n",
       " iPhone                             287\n",
       " Other Google product or service    282\n",
       " Android App                         77\n",
       " Android                             73\n",
       " Other Apple product or service      34\n",
       " Name: emotion_in_tweet_is_directed_at, dtype: int64,\n",
       " is_there_an_emotion_directed_at_a_brand_or_product  I can't tell  \\\n",
       " emotion_in_tweet_is_directed_at                                    \n",
       " Android                                                        0   \n",
       " Android App                                                    0   \n",
       " Apple                                                          2   \n",
       " Google                                                         1   \n",
       " Other Apple product or service                                 0   \n",
       " Other Google product or service                                1   \n",
       " iPad                                                           4   \n",
       " iPad or iPhone App                                             0   \n",
       " iPhone                                                         1   \n",
       " \n",
       " is_there_an_emotion_directed_at_a_brand_or_product  Negative emotion  \\\n",
       " emotion_in_tweet_is_directed_at                                        \n",
       " Android                                                            8   \n",
       " Android App                                                        7   \n",
       " Apple                                                             92   \n",
       " Google                                                            63   \n",
       " Other Apple product or service                                     2   \n",
       " Other Google product or service                                   46   \n",
       " iPad                                                             120   \n",
       " iPad or iPhone App                                                60   \n",
       " iPhone                                                            97   \n",
       " \n",
       " is_there_an_emotion_directed_at_a_brand_or_product  No emotion toward brand or product  \\\n",
       " emotion_in_tweet_is_directed_at                                                          \n",
       " Android                                                                              1   \n",
       " Android App                                                                          1   \n",
       " Apple                                                                               20   \n",
       " Google                                                                              14   \n",
       " Other Apple product or service                                                       1   \n",
       " Other Google product or service                                                      9   \n",
       " iPad                                                                                22   \n",
       " iPad or iPhone App                                                                  10   \n",
       " iPhone                                                                               9   \n",
       " \n",
       " is_there_an_emotion_directed_at_a_brand_or_product  Positive emotion  \n",
       " emotion_in_tweet_is_directed_at                                       \n",
       " Android                                                           64  \n",
       " Android App                                                       69  \n",
       " Apple                                                            524  \n",
       " Google                                                           332  \n",
       " Other Apple product or service                                    31  \n",
       " Other Google product or service                                  226  \n",
       " iPad                                                             761  \n",
       " iPad or iPhone App                                               380  \n",
       " iPhone                                                           180  )"
      ]
     },
     "execution_count": 18,
     "metadata": {},
     "output_type": "execute_result"
    }
   ],
   "source": [
    "# Analyzing the most frequently mentioned brands/products\n",
    "brand_product_counts = df['emotion_in_tweet_is_directed_at'].value_counts().head(10)\n",
    "\n",
    "# Extracting sentiment counts for each of the top brands/products\n",
    "top_brands_products = brand_product_counts.index\n",
    "sentiment_by_brand = df[df['emotion_in_tweet_is_directed_at'].isin(top_brands_products)].groupby(['emotion_in_tweet_is_directed_at', 'is_there_an_emotion_directed_at_a_brand_or_product']).size().unstack(fill_value=0)\n",
    "\n",
    "brand_product_counts, sentiment_by_brand\n"
   ]
  },
  {
   "cell_type": "code",
   "execution_count": 19,
   "metadata": {},
   "outputs": [
    {
     "data": {
      "text/plain": [
       "(is_there_an_emotion_directed_at_a_brand_or_product  I can't tell  \\\n",
       " emotion_in_tweet_is_directed_at                                    \n",
       " Android                                                        0   \n",
       " Android App                                                    0   \n",
       " Apple                                                          2   \n",
       " Google                                                         1   \n",
       " Other Apple product or service                                 0   \n",
       " Other Google product or service                                1   \n",
       " iPad                                                           4   \n",
       " iPad or iPhone App                                             0   \n",
       " iPhone                                                         1   \n",
       " \n",
       " is_there_an_emotion_directed_at_a_brand_or_product  Negative emotion  \\\n",
       " emotion_in_tweet_is_directed_at                                        \n",
       " Android                                                            8   \n",
       " Android App                                                        7   \n",
       " Apple                                                             92   \n",
       " Google                                                            63   \n",
       " Other Apple product or service                                     2   \n",
       " Other Google product or service                                   46   \n",
       " iPad                                                             120   \n",
       " iPad or iPhone App                                                60   \n",
       " iPhone                                                            97   \n",
       " \n",
       " is_there_an_emotion_directed_at_a_brand_or_product  No emotion toward brand or product  \\\n",
       " emotion_in_tweet_is_directed_at                                                          \n",
       " Android                                                                              1   \n",
       " Android App                                                                          1   \n",
       " Apple                                                                               20   \n",
       " Google                                                                              14   \n",
       " Other Apple product or service                                                       1   \n",
       " Other Google product or service                                                      9   \n",
       " iPad                                                                                22   \n",
       " iPad or iPhone App                                                                  10   \n",
       " iPhone                                                                               9   \n",
       " \n",
       " is_there_an_emotion_directed_at_a_brand_or_product  Positive emotion  \n",
       " emotion_in_tweet_is_directed_at                                       \n",
       " Android                                                           64  \n",
       " Android App                                                       69  \n",
       " Apple                                                            524  \n",
       " Google                                                           332  \n",
       " Other Apple product or service                                    31  \n",
       " Other Google product or service                                  226  \n",
       " iPad                                                             761  \n",
       " iPad or iPhone App                                               380  \n",
       " iPhone                                                           180  ,\n",
       " is_there_an_emotion_directed_at_a_brand_or_product  I can't tell  \\\n",
       " emotion_in_tweet_is_directed_at                                    \n",
       " Android                                                 0.000000   \n",
       " Android App                                             0.000000   \n",
       " Apple                                                   0.313480   \n",
       " Google                                                  0.243902   \n",
       " Other Apple product or service                          0.000000   \n",
       " Other Google product or service                         0.354610   \n",
       " iPad                                                    0.441014   \n",
       " iPad or iPhone App                                      0.000000   \n",
       " iPhone                                                  0.348432   \n",
       " \n",
       " is_there_an_emotion_directed_at_a_brand_or_product  Negative emotion  \\\n",
       " emotion_in_tweet_is_directed_at                                        \n",
       " Android                                                    10.958904   \n",
       " Android App                                                 9.090909   \n",
       " Apple                                                      14.420063   \n",
       " Google                                                     15.365854   \n",
       " Other Apple product or service                              5.882353   \n",
       " Other Google product or service                            16.312057   \n",
       " iPad                                                       13.230430   \n",
       " iPad or iPhone App                                         13.333333   \n",
       " iPhone                                                     33.797909   \n",
       " \n",
       " is_there_an_emotion_directed_at_a_brand_or_product  No emotion toward brand or product  \\\n",
       " emotion_in_tweet_is_directed_at                                                          \n",
       " Android                                                                       1.369863   \n",
       " Android App                                                                   1.298701   \n",
       " Apple                                                                         3.134796   \n",
       " Google                                                                        3.414634   \n",
       " Other Apple product or service                                                2.941176   \n",
       " Other Google product or service                                               3.191489   \n",
       " iPad                                                                          2.425579   \n",
       " iPad or iPhone App                                                            2.222222   \n",
       " iPhone                                                                        3.135889   \n",
       " \n",
       " is_there_an_emotion_directed_at_a_brand_or_product  Positive emotion  \n",
       " emotion_in_tweet_is_directed_at                                       \n",
       " Android                                                    87.671233  \n",
       " Android App                                                89.610390  \n",
       " Apple                                                      82.131661  \n",
       " Google                                                     80.975610  \n",
       " Other Apple product or service                             91.176471  \n",
       " Other Google product or service                            80.141844  \n",
       " iPad                                                       83.902977  \n",
       " iPad or iPhone App                                         84.444444  \n",
       " iPhone                                                     62.717770  )"
      ]
     },
     "execution_count": 19,
     "metadata": {},
     "output_type": "execute_result"
    }
   ],
   "source": [
    "# Create a pivot table to analyze the sentiment distribution for each top brand/product\n",
    "sentiment_pivot = df[df['emotion_in_tweet_is_directed_at'].isin(top_brands_products)].pivot_table(index='emotion_in_tweet_is_directed_at', columns='is_there_an_emotion_directed_at_a_brand_or_product', aggfunc='size', fill_value=0)\n",
    "\n",
    "# Normalize the pivot table to see the percentage distribution of sentiments for each brand/product\n",
    "sentiment_pivot_percentage = sentiment_pivot.div(sentiment_pivot.sum(axis=1), axis=0) * 100\n",
    "\n",
    "sentiment_pivot, sentiment_pivot_percentage\n"
   ]
  },
  {
   "cell_type": "markdown",
   "metadata": {},
   "source": [
    "#### Overall Sentiment Distribution"
   ]
  },
  {
   "cell_type": "code",
   "execution_count": 20,
   "metadata": {},
   "outputs": [
    {
     "data": {
      "image/png": "[encoded data removed]",
      "text/plain": [
       "<Figure size 432x288 with 1 Axes>"
      ]
     },
     "metadata": {
      "needs_background": "light"
     },
     "output_type": "display_data"
    }
   ],
   "source": [
    "# Sentiment distribution across all tweets\n",
    "sentiment_counts_all = df['is_there_an_emotion_directed_at_a_brand_or_product'].value_counts()\n",
    "sentiment_counts_all.plot(kind='bar', color=['#ff9999','#66b3ff','#99ff99','#ffcc99'])\n",
    "plt.title('Overall Sentiment Distribution')\n",
    "plt.xlabel('Sentiment')\n",
    "plt.ylabel('Number of Tweets')\n",
    "plt.xticks(rotation=45)\n",
    "plt.show()"
   ]
  },
  {
   "cell_type": "markdown",
   "metadata": {},
   "source": [
    "This bar chart shows the number of tweets expressing each type of sentiment (Positive, Negative, No Emotion, I Can't Tell).\n",
    "\n",
    "* The most frequent is \"No emotion toward brand or product,\" indicating that many tweets do not express a clear sentiment about a brand or product.\n",
    "\n",
    "* \"Positive emotion\" is the second closely, followed by \"Negative emotion.\" This suggests that, among tweets with a clear sentiment, positive emotions are more prevalent than negative ones.\n",
    "\n",
    "* The \"I can't tell\" category represents tweets where the sentiment could not be determined."
   ]
  },
  {
   "cell_type": "markdown",
   "metadata": {},
   "source": [
    "#### Brand vs Sentiment Distribution"
   ]
  },
  {
   "cell_type": "code",
   "execution_count": 21,
   "metadata": {},
   "outputs": [
    {
     "data": {
      "image/png": "[encoded data removed]",
      "text/plain": [
       "<Figure size 720x432 with 1 Axes>"
      ]
     },
     "metadata": {
      "needs_background": "light"
     },
     "output_type": "display_data"
    }
   ],
   "source": [
    "# Top brands/products with sentiment breakdown\n",
    "sentiment_pivot_percentage.plot(kind='bar', stacked=True, figsize=(10, 6), color=['#ff9999','#66b3ff','#99ff99','#ffcc99'])\n",
    "plt.title('Sentiment Distribution by Brand/Product')\n",
    "plt.xlabel('Brand/Product')\n",
    "plt.ylabel('Percentage of Tweets')\n",
    "plt.xticks(rotation=45)\n",
    "plt.legend(title='Sentiment')\n",
    "plt.show()"
   ]
  },
  {
   "cell_type": "markdown",
   "metadata": {},
   "source": [
    "Sentiment Distribution by Brand/Product: \n",
    "\n",
    "* This bar chart displays the percentage distribution of sentiments (Positive, Negative, No Emotion, I Can't Tell) for the top brands/products mentioned in the dataset.\n",
    "\n",
    "* For most brands/products, \"Positive emotion\" occupies a significant portion, indicating that positive sentiments are more common. For example, \"iPad\" and \"Apple\" have high percentages of positive sentiment.\n",
    "\n",
    "* The \"Unknown\" category has a high percentage of \"No emotion toward brand or product,\" suggesting that these tweets do not specifically mention any brand or product despite being part of the dataset.\n",
    "\n",
    "* \"Negative emotion\" is present but less common than positive sentiment across most brands/products, with notable exceptions like \"iPhone,\" which has a relatively higher percentage of negative sentiment."
   ]
  },
  {
   "cell_type": "markdown",
   "metadata": {},
   "source": [
    "#### Sentiment vs. Product Category\n",
    "\n"
   ]
  },
  {
   "cell_type": "code",
   "execution_count": 22,
   "metadata": {},
   "outputs": [
    {
     "data": {
      "text/plain": [
       "(is_there_an_emotion_directed_at_a_brand_or_product  I can't tell  \\\n",
       " category                                                           \n",
       " Apple                                                          7   \n",
       " Google                                                         2   \n",
       " Other                                                        142   \n",
       " \n",
       " is_there_an_emotion_directed_at_a_brand_or_product  Negative emotion  \\\n",
       " category                                                               \n",
       " Apple                                                            371   \n",
       " Google                                                           124   \n",
       " Other                                                             49   \n",
       " \n",
       " is_there_an_emotion_directed_at_a_brand_or_product  No emotion toward brand or product  \\\n",
       " category                                                                                 \n",
       " Apple                                                                               62   \n",
       " Google                                                                              25   \n",
       " Other                                                                             5052   \n",
       " \n",
       " is_there_an_emotion_directed_at_a_brand_or_product  Positive emotion  \n",
       " category                                                              \n",
       " Apple                                                           1876  \n",
       " Google                                                           691  \n",
       " Other                                                            292  ,\n",
       " is_there_an_emotion_directed_at_a_brand_or_product  I can't tell  \\\n",
       " category                                                           \n",
       " Apple                                                   0.302245   \n",
       " Google                                                  0.237530   \n",
       " Other                                                   2.565492   \n",
       " \n",
       " is_there_an_emotion_directed_at_a_brand_or_product  Negative emotion  \\\n",
       " category                                                               \n",
       " Apple                                                      16.018998   \n",
       " Google                                                     14.726841   \n",
       " Other                                                       0.885276   \n",
       " \n",
       " is_there_an_emotion_directed_at_a_brand_or_product  No emotion toward brand or product  \\\n",
       " category                                                                                 \n",
       " Apple                                                                         2.677029   \n",
       " Google                                                                        2.969121   \n",
       " Other                                                                        91.273713   \n",
       " \n",
       " is_there_an_emotion_directed_at_a_brand_or_product  Positive emotion  \n",
       " category                                                              \n",
       " Apple                                                      81.001727  \n",
       " Google                                                     82.066508  \n",
       " Other                                                       5.275519  )"
      ]
     },
     "execution_count": 22,
     "metadata": {},
     "output_type": "execute_result"
    }
   ],
   "source": [
    "# Creating a mapping of products to categories based on brand/product names\n",
    "category_mapping = {\n",
    "    'iPad': 'Apple',\n",
    "    'Apple': 'Apple',\n",
    "    'iPad or iPhone App': 'Apple',\n",
    "    'Google': 'Google',\n",
    "    'iPhone': 'Apple',\n",
    "    'Other Google product or service': 'Google',\n",
    "    'Android App': 'Google',\n",
    "    'Android': 'Google',\n",
    "    'Other Apple product or service': 'Apple',\n",
    "    'Unknown': 'Unknown'\n",
    "}\n",
    "\n",
    "# Applying the mapping to create a new column for categories\n",
    "df['category'] = df['emotion_in_tweet_is_directed_at'].map(category_mapping).fillna('Other')\n",
    "\n",
    "# Calculating sentiment distribution by category\n",
    "sentiment_by_category = df.groupby(['category', 'is_there_an_emotion_directed_at_a_brand_or_product']).size().unstack(fill_value=0)\n",
    "\n",
    "# Normalizing to get percentages\n",
    "sentiment_by_category_percentage = sentiment_by_category.div(sentiment_by_category.sum(axis=1), axis=0) * 100\n",
    "\n",
    "sentiment_by_category, sentiment_by_category_percentage\n"
   ]
  },
  {
   "cell_type": "code",
   "execution_count": 23,
   "metadata": {},
   "outputs": [
    {
     "data": {
      "image/png": "[encoded data removed]",
      "text/plain": [
       "<Figure size 720x432 with 1 Axes>"
      ]
     },
     "metadata": {
      "needs_background": "light"
     },
     "output_type": "display_data"
    }
   ],
   "source": [
    "# Visualizing the sentiment distribution by category\n",
    "\n",
    "# Setting up the color scheme for the chart\n",
    "colors = ['#ff9999','#66b3ff','#99ff99','#ffcc99']\n",
    "\n",
    "# Plotting the stacked bar chart\n",
    "sentiment_by_category_percentage.plot(kind='bar', stacked=True, figsize=(10, 6), color=colors)\n",
    "plt.title('Sentiment Distribution by Category')\n",
    "plt.xlabel('Category')\n",
    "plt.ylabel('Percentage of Tweets')\n",
    "plt.xticks(rotation=45)\n",
    "plt.legend(title='Sentiment')\n",
    "plt.tight_layout()\n",
    "plt.show()\n"
   ]
  },
  {
   "cell_type": "markdown",
   "metadata": {},
   "source": [
    "## Insights"
   ]
  },
  {
   "cell_type": "markdown",
   "metadata": {},
   "source": [
    "Apple Products: A significant majority of the tweets express positive sentiments (81.02%), with a smaller proportion being negative (16.01%). This indicates a generally favorable public perception.\n",
    "\n",
    "Google Products: Similar to Apple, the majority of tweets are positive (82.15%), with a smaller percentage being negative (14.66%). This suggests that Google products are also well-regarded.\n",
    "\n",
    "Unknown Category: Most tweets in this category have no specific emotion directed at a brand/product, which may include generic comments or non-specific discussions.\n",
    "\n",
    "These findings show a generally positive sentiment towards both Apple and Google products, with a notable proportion of neutral or non-specific tweets."
   ]
  },
  {
   "cell_type": "markdown",
   "metadata": {},
   "source": []
  },
  {
   "cell_type": "markdown",
   "metadata": {},
   "source": [
    "## Modelling"
   ]
  },
  {
   "cell_type": "markdown",
   "metadata": {},
   "source": [
    "#### Preprocess Our data for Model Training"
   ]
  },
  {
   "cell_type": "code",
   "execution_count": 24,
   "metadata": {},
   "outputs": [],
   "source": [
    "# Function to clean and preprocess text\n",
    "def preprocess_text(text):\n",
    "    text = text.lower()\n",
    "    text = re.sub(r'http\\S+|www\\S+|https\\S+', '', text)\n",
    "    text = re.sub(r'\\@\\w+|\\#', '', text)\n",
    "    text = text.translate(str.maketrans('', '', string.punctuation))\n",
    "    text = re.sub(r'\\d+', '', text)\n",
    "    return text\n",
    "\n",
    "df['cleaned_text'] = df['tweet_text'].apply(preprocess_text)\n",
    "\n",
    "# Tokenization and TF-IDF Vectorization\n",
    "vectorizer = TfidfVectorizer(max_features=5000, stop_words='english')\n",
    "X = vectorizer.fit_transform(df['cleaned_text'])\n",
    "y = df['is_there_an_emotion_directed_at_a_brand_or_product'].apply(lambda x: 1 if x == 'Positive emotion' else 0)\n",
    "\n"
   ]
  },
  {
   "cell_type": "code",
   "execution_count": 25,
   "metadata": {},
   "outputs": [],
   "source": [
    "#Split our data for training and testing\n",
    "X_train, X_test, y_train, y_test = train_test_split(X, y, test_size=0.2, random_state=42)"
   ]
  },
  {
   "cell_type": "markdown",
   "metadata": {},
   "source": [
    "### Baseline Model(Logistic Regression Model)"
   ]
  },
  {
   "cell_type": "code",
   "execution_count": 26,
   "metadata": {},
   "outputs": [
    {
     "name": "stdout",
     "output_type": "stream",
     "text": [
      "Baseline Model - Logistic Regression\n",
      "              precision    recall  f1-score   support\n",
      "\n",
      "           0       0.74      0.94      0.83      1171\n",
      "           1       0.71      0.32      0.44       568\n",
      "\n",
      "    accuracy                           0.73      1739\n",
      "   macro avg       0.73      0.63      0.63      1739\n",
      "weighted avg       0.73      0.73      0.70      1739\n",
      "\n",
      "Accuracy: 0.7349051178838413\n"
     ]
    }
   ],
   "source": [
    "# Baseline model: Logistic Regression\n",
    "from sklearn.linear_model import LogisticRegression\n",
    "from sklearn.metrics import classification_report, accuracy_score\n",
    "baseline_model = LogisticRegression()\n",
    "baseline_model.fit(X_train, y_train)\n",
    "y_pred_baseline = baseline_model.predict(X_test)\n",
    "\n",
    "print(\"Baseline Model - Logistic Regression\")\n",
    "print(classification_report(y_test, y_pred_baseline))\n",
    "print(\"Accuracy:\", accuracy_score(y_test, y_pred_baseline))\n"
   ]
  },
  {
   "cell_type": "markdown",
   "metadata": {},
   "source": [
    "We created our baseline model to work with(Logistic Regression)\n",
    "Our model is 73.5% accurate meaning out of all sampled tweets,it corrctly classifies 73.5% of these tweets.\n",
    "Overally, this model can be improved but we use this as a bench mark for the rest of the models"
   ]
  },
  {
   "cell_type": "markdown",
   "metadata": {},
   "source": [
    "### Model 2:Tuned Model: SVM with Grid Search CV"
   ]
  },
  {
   "cell_type": "code",
   "execution_count": 27,
   "metadata": {},
   "outputs": [
    {
     "name": "stdout",
     "output_type": "stream",
     "text": [
      "Fitting 5 folds for each of 32 candidates, totalling 160 fits\n"
     ]
    },
    {
     "name": "stdout",
     "output_type": "stream",
     "text": [
      "Tuned Model - SVM with GridSearchCV\n",
      "Best Parameters: {'C': 1, 'gamma': 1, 'kernel': 'rbf'}\n",
      "              precision    recall  f1-score   support\n",
      "\n",
      "           0       0.76      0.93      0.83      1171\n",
      "           1       0.72      0.38      0.50       568\n",
      "\n",
      "    accuracy                           0.75      1739\n",
      "   macro avg       0.74      0.66      0.67      1739\n",
      "weighted avg       0.75      0.75      0.73      1739\n",
      "\n",
      "Accuracy: 0.7510063254744106\n"
     ]
    }
   ],
   "source": [
    "#from sklearn.model_selection import GridSearchCV\n",
    "from sklearn.svm import SVC\n",
    "\n",
    "# Define the parameter grid\n",
    "param_grid = {\n",
    "    'C': [0.1, 1, 10, 100],\n",
    "    'gamma': [1, 0.1, 0.01, 0.001],\n",
    "    'kernel': ['rbf', 'linear']\n",
    "}\n",
    "\n",
    "# Initialize the model\n",
    "svm_model = SVC()\n",
    "\n",
    "# Initialize GridSearchCV\n",
    "grid = GridSearchCV(svm_model, param_grid, refit=True, verbose=2, cv=5, n_jobs=-1)\n",
    "\n",
    "# Fit the model\n",
    "grid.fit(X_train, y_train)\n",
    "\n",
    "# Predict using the best model\n",
    "y_pred_tuned = grid.best_estimator_.predict(X_test)\n",
    "\n",
    "print(\"Tuned Model - SVM with GridSearchCV\")\n",
    "print(f\"Best Parameters: {grid.best_params_}\")\n",
    "print(classification_report(y_test, y_pred_tuned))\n",
    "print(\"Accuracy:\", accuracy_score(y_test, y_pred_tuned))\n"
   ]
  },
  {
   "cell_type": "markdown",
   "metadata": {},
   "source": [
    "This particular model accounts for 75% accuracy in our model data correctly classifying tweet sentiments 75% correctly which is a decent perfomance but room for improvement is not limited. Balanced metrics for both classes and a fairly good average score quantifies for the model's perfomance."
   ]
  },
  {
   "cell_type": "markdown",
   "metadata": {},
   "source": [
    "#### Model 3(Gradient Boosting)"
   ]
  },
  {
   "cell_type": "code",
   "execution_count": 28,
   "metadata": {},
   "outputs": [
    {
     "name": "stdout",
     "output_type": "stream",
     "text": [
      "Advanced Model - Gradient Boosting\n",
      "              precision    recall  f1-score   support\n",
      "\n",
      "           0       0.72      0.97      0.83      1171\n",
      "           1       0.79      0.20      0.32       568\n",
      "\n",
      "    accuracy                           0.72      1739\n",
      "   macro avg       0.76      0.59      0.58      1739\n",
      "weighted avg       0.74      0.72      0.66      1739\n",
      "\n",
      "Accuracy: 0.7228292121909143\n"
     ]
    }
   ],
   "source": [
    "from sklearn.ensemble import GradientBoostingClassifier\n",
    "\n",
    "# Advanced model: Gradient Boosting\n",
    "advanced_model = GradientBoostingClassifier(n_estimators=100, learning_rate=0.1, max_depth=3, random_state=42)\n",
    "advanced_model.fit(X_train, y_train)\n",
    "y_pred_advanced = advanced_model.predict(X_test)\n",
    "\n",
    "print(\"Advanced Model - Gradient Boosting\")\n",
    "print(classification_report(y_test, y_pred_advanced))\n",
    "print(\"Accuracy:\", accuracy_score(y_test, y_pred_advanced))\n"
   ]
  },
  {
   "cell_type": "markdown",
   "metadata": {},
   "source": [
    "This model accounts for 72% accuracy in our dataset. major room for improvement with overall metrics to reduce oversampling in our model."
   ]
  },
  {
   "cell_type": "markdown",
   "metadata": {},
   "source": [
    "#### Model 4(Random Forest Model)"
   ]
  },
  {
   "cell_type": "code",
   "execution_count": 29,
   "metadata": {},
   "outputs": [
    {
     "name": "stdout",
     "output_type": "stream",
     "text": [
      "Random Forest Model\n",
      "              precision    recall  f1-score   support\n",
      "\n",
      "           0       0.75      0.92      0.83      1171\n",
      "           1       0.70      0.38      0.49       568\n",
      "\n",
      "    accuracy                           0.74      1739\n",
      "   macro avg       0.73      0.65      0.66      1739\n",
      "weighted avg       0.74      0.74      0.72      1739\n",
      "\n",
      "Accuracy: 0.7441058079355952\n"
     ]
    }
   ],
   "source": [
    "from sklearn.ensemble import RandomForestClassifier\n",
    "from sklearn.metrics import classification_report, accuracy_score\n",
    "\n",
    "# Initialize the Random Forest classifier\n",
    "random_forest_model = RandomForestClassifier(n_estimators=100, random_state=42)\n",
    "\n",
    "# Train the model\n",
    "random_forest_model.fit(X_train, y_train)\n",
    "\n",
    "# Make predictions\n",
    "y_pred_rf = random_forest_model.predict(X_test)\n",
    "\n",
    "# Evaluate the model\n",
    "print(\"Random Forest Model\")\n",
    "print(classification_report(y_test, y_pred_rf))\n",
    "print(\"Accuracy:\", accuracy_score(y_test, y_pred_rf))\n"
   ]
  },
  {
   "cell_type": "markdown",
   "metadata": {},
   "source": [
    "This random forest model above accounts for approximately 74.4% accuracy in our data with a slightly balanced precision but still with room for improvement"
   ]
  },
  {
   "cell_type": "code",
   "execution_count": 31,
   "metadata": {},
   "outputs": [
    {
     "name": "stdout",
     "output_type": "stream",
     "text": [
      "Fitting 5 folds for each of 216 candidates, totalling 1080 fits\n"
     ]
    },
    {
     "name": "stdout",
     "output_type": "stream",
     "text": [
      "Best Parameters: {'bootstrap': True, 'max_depth': None, 'min_samples_leaf': 1, 'min_samples_split': 5, 'n_estimators': 200}\n",
      "Tuned Random Forest Model\n",
      "              precision    recall  f1-score   support\n",
      "\n",
      "           0       0.77      0.86      0.81      1171\n",
      "           1       0.62      0.48      0.54       568\n",
      "\n",
      "    accuracy                           0.74      1739\n",
      "   macro avg       0.70      0.67      0.68      1739\n",
      "weighted avg       0.72      0.74      0.73      1739\n",
      "\n",
      "Accuracy: 0.7354801610120759\n"
     ]
    }
   ],
   "source": [
    "from sklearn.ensemble import RandomForestClassifier\n",
    "from sklearn.model_selection import GridSearchCV\n",
    "from sklearn.metrics import classification_report, accuracy_score\n",
    "\n",
    "# Initialize the Random Forest model\n",
    "rf_model = RandomForestClassifier(random_state=42, class_weight='balanced')\n",
    "\n",
    "# Define the parameter grid\n",
    "param_grid = {\n",
    "    'n_estimators': [100, 200, 300],\n",
    "    'max_depth': [None, 10, 20, 30],\n",
    "    'min_samples_split': [2, 5, 10],\n",
    "    'min_samples_leaf': [1, 2, 4],\n",
    "    'bootstrap': [True, False]\n",
    "}\n",
    "\n",
    "# Initialize GridSearchCV\n",
    "grid_search = GridSearchCV(estimator=rf_model, param_grid=param_grid, cv=5, n_jobs=-1, verbose=2)\n",
    "\n",
    "# Fit the model\n",
    "grid_search.fit(X_train, y_train)\n",
    "\n",
    "# Best parameters\n",
    "print(\"Best Parameters:\", grid_search.best_params_)\n",
    "\n",
    "# Predict using the best model\n",
    "y_pred_rf_tuned = grid_search.best_estimator_.predict(X_test)\n",
    "\n",
    "# Evaluate the tuned model\n",
    "print(\"Tuned Random Forest Model\")\n",
    "print(classification_report(y_test, y_pred_rf_tuned))\n",
    "print(\"Accuracy:\", accuracy_score(y_test, y_pred_rf_tuned))\n"
   ]
  }
 ],
 "metadata": {
  "kernelspec": {
   "display_name": "learn-env",
   "language": "python",
   "name": "python3"
  },
  "language_info": {
   "codemirror_mode": {
    "name": "ipython",
    "version": 3
   },
   "file_extension": ".py",
   "mimetype": "text/x-python",
   "name": "python",
   "nbconvert_exporter": "python",
   "pygments_lexer": "ipython3",
   "version": "3.8.5"
  }
 },
 "nbformat": 4,
 "nbformat_minor": 2
}
