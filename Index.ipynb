{
 "cells": [
  {
   "cell_type": "markdown",
   "metadata": {},
   "source": [
    "# Project title: Sentiment Analysis on Tweets about Brands and Products\n",
    "\n",
    "\n",
    "- Student names: \n",
    "    - INGAVI KILAVUKA\n",
    "    - CALVIN OMWEGA\n",
    "    - ALVIN KIMATHI\n",
    "    - Ronny Kabiru\n",
    "- Instructor name: Maryann Mwikali\n",
    "- DATASET/MODELING FOCUS: NLP(Natural language processing)\n"
   ]
  },
  {
   "cell_type": "markdown",
   "metadata": {},
   "source": [
    "Objective:\n",
    "To analyze the sentiment of tweets directed at various brands and products to understand public perception. This will involve determining whether the sentiment expressed in tweets is positive, negative, or neutral and identifying the specific brands and products mentioned.\n"
   ]
  },
  {
   "cell_type": "markdown",
   "metadata": {},
   "source": [
    "Problem Definition:\n",
    "In the age of social media, understanding public sentiment towards brands and products is crucial for businesses. This project aims to:\n",
    "1. **Identify the Sentiment**: Determine whether the sentiment expressed in each tweet is positive, negative, or neutral.\n",
    "2. **Target Identification**: Identify the specific brand or product that the sentiment is directed towards.\n",
    "3. **Trends and Insights**: Derive insights and trends regarding public perception of various brands and products.\n"
   ]
  },
  {
   "cell_type": "markdown",
   "metadata": {},
   "source": [
    "Research Questions:\n",
    "1. **Sentiment Classification**: What is the distribution of positive, negative, and neutral sentiments across the dataset?\n",
    "2. **Brand/Product Association**: Which brands and products are most frequently mentioned, and what is the associated sentiment for each?\n",
    "3. **Temporal Trends**: Are there any notable trends in sentiment over time for specific brands or products?"
   ]
  },
  {
   "cell_type": "code",
   "execution_count": 1,
   "metadata": {},
   "outputs": [
    {
     "name": "stdout",
     "output_type": "stream",
     "text": [
      "Requirement already satisfied: tensorflow in /Users/calvinomwega/anaconda3/envs/learn-env/lib/python3.8/site-packages (2.3.1)\n",
      "Requirement already satisfied: tensorboard<3,>=2.3.0 in /Users/calvinomwega/anaconda3/envs/learn-env/lib/python3.8/site-packages (from tensorflow) (2.3.0)\n",
      "Requirement already satisfied: absl-py>=0.7.0 in /Users/calvinomwega/anaconda3/envs/learn-env/lib/python3.8/site-packages (from tensorflow) (0.10.0)\n",
      "Requirement already satisfied: opt-einsum>=2.3.2 in /Users/calvinomwega/anaconda3/envs/learn-env/lib/python3.8/site-packages (from tensorflow) (3.3.0)\n",
      "Requirement already satisfied: wrapt>=1.11.1 in /Users/calvinomwega/anaconda3/envs/learn-env/lib/python3.8/site-packages (from tensorflow) (1.12.1)\n",
      "Requirement already satisfied: gast==0.3.3 in /Users/calvinomwega/anaconda3/envs/learn-env/lib/python3.8/site-packages (from tensorflow) (0.3.3)\n",
      "Requirement already satisfied: protobuf>=3.9.2 in /Users/calvinomwega/anaconda3/envs/learn-env/lib/python3.8/site-packages (from tensorflow) (3.13.0)\n",
      "Requirement already satisfied: six>=1.12.0 in /Users/calvinomwega/anaconda3/envs/learn-env/lib/python3.8/site-packages (from tensorflow) (1.15.0)\n",
      "Requirement already satisfied: grpcio>=1.8.6 in /Users/calvinomwega/anaconda3/envs/learn-env/lib/python3.8/site-packages (from tensorflow) (1.31.0)\n",
      "Requirement already satisfied: tensorflow-estimator<2.4.0,>=2.3.0 in /Users/calvinomwega/anaconda3/envs/learn-env/lib/python3.8/site-packages (from tensorflow) (2.3.0)\n",
      "Requirement already satisfied: astunparse==1.6.3 in /Users/calvinomwega/anaconda3/envs/learn-env/lib/python3.8/site-packages (from tensorflow) (1.6.3)\n",
      "Requirement already satisfied: keras-preprocessing<1.2,>=1.1.1 in /Users/calvinomwega/anaconda3/envs/learn-env/lib/python3.8/site-packages (from tensorflow) (1.1.2)\n",
      "Requirement already satisfied: termcolor>=1.1.0 in /Users/calvinomwega/anaconda3/envs/learn-env/lib/python3.8/site-packages (from tensorflow) (1.1.0)\n",
      "Requirement already satisfied: wheel>=0.26 in /Users/calvinomwega/anaconda3/envs/learn-env/lib/python3.8/site-packages (from tensorflow) (0.35.1)\n",
      "Requirement already satisfied: google-pasta>=0.1.8 in /Users/calvinomwega/anaconda3/envs/learn-env/lib/python3.8/site-packages (from tensorflow) (0.2.0)\n",
      "Collecting numpy<1.19.0,>=1.16.0\n",
      "  Using cached numpy-1.18.5-cp38-cp38-macosx_10_9_x86_64.whl (15.1 MB)\n",
      "Requirement already satisfied: h5py<2.11.0,>=2.10.0 in /Users/calvinomwega/anaconda3/envs/learn-env/lib/python3.8/site-packages (from tensorflow) (2.10.0)\n",
      "Requirement already satisfied: requests<3,>=2.21.0 in /Users/calvinomwega/anaconda3/envs/learn-env/lib/python3.8/site-packages (from tensorboard<3,>=2.3.0->tensorflow) (2.24.0)\n",
      "Requirement already satisfied: werkzeug>=0.11.15 in /Users/calvinomwega/anaconda3/envs/learn-env/lib/python3.8/site-packages (from tensorboard<3,>=2.3.0->tensorflow) (1.0.1)\n",
      "Requirement already satisfied: google-auth<2,>=1.6.3 in /Users/calvinomwega/anaconda3/envs/learn-env/lib/python3.8/site-packages (from tensorboard<3,>=2.3.0->tensorflow) (1.22.0)\n",
      "Requirement already satisfied: setuptools>=41.0.0 in /Users/calvinomwega/anaconda3/envs/learn-env/lib/python3.8/site-packages (from tensorboard<3,>=2.3.0->tensorflow) (50.3.0.post20201103)\n",
      "Requirement already satisfied: tensorboard-plugin-wit>=1.6.0 in /Users/calvinomwega/anaconda3/envs/learn-env/lib/python3.8/site-packages (from tensorboard<3,>=2.3.0->tensorflow) (1.7.0)\n",
      "Requirement already satisfied: markdown>=2.6.8 in /Users/calvinomwega/anaconda3/envs/learn-env/lib/python3.8/site-packages (from tensorboard<3,>=2.3.0->tensorflow) (3.3.1)\n",
      "Requirement already satisfied: google-auth-oauthlib<0.5,>=0.4.1 in /Users/calvinomwega/anaconda3/envs/learn-env/lib/python3.8/site-packages (from tensorboard<3,>=2.3.0->tensorflow) (0.4.1)\n",
      "Requirement already satisfied: idna<3,>=2.5 in /Users/calvinomwega/anaconda3/envs/learn-env/lib/python3.8/site-packages (from requests<3,>=2.21.0->tensorboard<3,>=2.3.0->tensorflow) (2.10)\n",
      "Requirement already satisfied: chardet<4,>=3.0.2 in /Users/calvinomwega/anaconda3/envs/learn-env/lib/python3.8/site-packages (from requests<3,>=2.21.0->tensorboard<3,>=2.3.0->tensorflow) (3.0.4)\n",
      "Requirement already satisfied: urllib3!=1.25.0,!=1.25.1,<1.26,>=1.21.1 in /Users/calvinomwega/anaconda3/envs/learn-env/lib/python3.8/site-packages (from requests<3,>=2.21.0->tensorboard<3,>=2.3.0->tensorflow) (1.25.10)\n",
      "Requirement already satisfied: certifi>=2017.4.17 in /Users/calvinomwega/anaconda3/envs/learn-env/lib/python3.8/site-packages (from requests<3,>=2.21.0->tensorboard<3,>=2.3.0->tensorflow) (2024.2.2)\n",
      "Requirement already satisfied: aiohttp<4.0.0dev,>=3.6.2; python_version >= \"3.6\" in /Users/calvinomwega/anaconda3/envs/learn-env/lib/python3.8/site-packages (from google-auth<2,>=1.6.3->tensorboard<3,>=2.3.0->tensorflow) (3.6.2)\n",
      "Requirement already satisfied: pyasn1-modules>=0.2.1 in /Users/calvinomwega/anaconda3/envs/learn-env/lib/python3.8/site-packages (from google-auth<2,>=1.6.3->tensorboard<3,>=2.3.0->tensorflow) (0.2.7)\n",
      "Requirement already satisfied: cachetools<5.0,>=2.0.0 in /Users/calvinomwega/anaconda3/envs/learn-env/lib/python3.8/site-packages (from google-auth<2,>=1.6.3->tensorboard<3,>=2.3.0->tensorflow) (4.1.1)\n",
      "Requirement already satisfied: rsa<5,>=3.1.4; python_version >= \"3.5\" in /Users/calvinomwega/anaconda3/envs/learn-env/lib/python3.8/site-packages (from google-auth<2,>=1.6.3->tensorboard<3,>=2.3.0->tensorflow) (4.6)\n",
      "Requirement already satisfied: requests-oauthlib>=0.7.0 in /Users/calvinomwega/anaconda3/envs/learn-env/lib/python3.8/site-packages (from google-auth-oauthlib<0.5,>=0.4.1->tensorboard<3,>=2.3.0->tensorflow) (1.3.0)\n",
      "Requirement already satisfied: yarl<2.0,>=1.0 in /Users/calvinomwega/anaconda3/envs/learn-env/lib/python3.8/site-packages (from aiohttp<4.0.0dev,>=3.6.2; python_version >= \"3.6\"->google-auth<2,>=1.6.3->tensorboard<3,>=2.3.0->tensorflow) (1.6.2)\n",
      "Requirement already satisfied: attrs>=17.3.0 in /Users/calvinomwega/anaconda3/envs/learn-env/lib/python3.8/site-packages (from aiohttp<4.0.0dev,>=3.6.2; python_version >= \"3.6\"->google-auth<2,>=1.6.3->tensorboard<3,>=2.3.0->tensorflow) (20.2.0)\n",
      "Requirement already satisfied: async-timeout<4.0,>=3.0 in /Users/calvinomwega/anaconda3/envs/learn-env/lib/python3.8/site-packages (from aiohttp<4.0.0dev,>=3.6.2; python_version >= \"3.6\"->google-auth<2,>=1.6.3->tensorboard<3,>=2.3.0->tensorflow) (3.0.1)\n",
      "Requirement already satisfied: multidict<5.0,>=4.5 in /Users/calvinomwega/anaconda3/envs/learn-env/lib/python3.8/site-packages (from aiohttp<4.0.0dev,>=3.6.2; python_version >= \"3.6\"->google-auth<2,>=1.6.3->tensorboard<3,>=2.3.0->tensorflow) (4.7.5)\n",
      "Requirement already satisfied: pyasn1<0.5.0,>=0.4.6 in /Users/calvinomwega/anaconda3/envs/learn-env/lib/python3.8/site-packages (from pyasn1-modules>=0.2.1->google-auth<2,>=1.6.3->tensorboard<3,>=2.3.0->tensorflow) (0.4.8)\n",
      "Requirement already satisfied: oauthlib>=3.0.0 in /Users/calvinomwega/anaconda3/envs/learn-env/lib/python3.8/site-packages (from requests-oauthlib>=0.7.0->google-auth-oauthlib<0.5,>=0.4.1->tensorboard<3,>=2.3.0->tensorflow) (3.1.0)\n",
      "Installing collected packages: numpy\n",
      "  Attempting uninstall: numpy\n",
      "    Found existing installation: numpy 1.19.5\n",
      "    Uninstalling numpy-1.19.5:\n",
      "      Successfully uninstalled numpy-1.19.5\n",
      "Successfully installed numpy-1.18.5\n",
      "Note: you may need to restart the kernel to use updated packages.\n"
     ]
    }
   ],
   "source": [
    "pip install tensorflow"
   ]
  },
  {
   "cell_type": "code",
   "execution_count": 2,
   "metadata": {},
   "outputs": [
    {
     "name": "stdout",
     "output_type": "stream",
     "text": [
      "Collecting scikeras\n",
      "  Downloading scikeras-0.12.0-py3-none-any.whl (27 kB)\n",
      "Requirement already satisfied: packaging>=0.21 in /Users/calvinomwega/anaconda3/envs/learn-env/lib/python3.8/site-packages (from scikeras) (20.4)\n",
      "Collecting scikit-learn>=1.0.0\n",
      "  Downloading scikit_learn-1.3.2-cp38-cp38-macosx_10_9_x86_64.whl (10.1 MB)\n",
      "\u001b[K     |████████████████████████████████| 10.1 MB 706 kB/s eta 0:00:01\n",
      "\u001b[?25hRequirement already satisfied: pyparsing>=2.0.2 in /Users/calvinomwega/anaconda3/envs/learn-env/lib/python3.8/site-packages (from packaging>=0.21->scikeras) (2.4.7)\n",
      "Requirement already satisfied: six in /Users/calvinomwega/anaconda3/envs/learn-env/lib/python3.8/site-packages (from packaging>=0.21->scikeras) (1.15.0)\n",
      "Requirement already satisfied: scipy>=1.5.0 in /Users/calvinomwega/anaconda3/envs/learn-env/lib/python3.8/site-packages (from scikit-learn>=1.0.0->scikeras) (1.5.2)\n",
      "Requirement already satisfied: numpy<2.0,>=1.17.3 in /Users/calvinomwega/anaconda3/envs/learn-env/lib/python3.8/site-packages (from scikit-learn>=1.0.0->scikeras) (1.18.5)\n",
      "Requirement already satisfied: threadpoolctl>=2.0.0 in /Users/calvinomwega/anaconda3/envs/learn-env/lib/python3.8/site-packages (from scikit-learn>=1.0.0->scikeras) (2.1.0)\n",
      "Collecting joblib>=1.1.1\n",
      "  Downloading joblib-1.4.2-py3-none-any.whl (301 kB)\n",
      "\u001b[K     |████████████████████████████████| 301 kB 30.0 MB/s eta 0:00:01\n",
      "\u001b[?25hInstalling collected packages: joblib, scikit-learn, scikeras\n",
      "  Attempting uninstall: joblib\n",
      "    Found existing installation: joblib 0.17.0\n",
      "    Uninstalling joblib-0.17.0:\n",
      "      Successfully uninstalled joblib-0.17.0\n",
      "  Attempting uninstall: scikit-learn\n",
      "    Found existing installation: scikit-learn 0.23.2\n",
      "    Uninstalling scikit-learn-0.23.2:\n",
      "      Successfully uninstalled scikit-learn-0.23.2\n",
      "Successfully installed joblib-1.4.2 scikeras-0.12.0 scikit-learn-1.3.2\n",
      "Note: you may need to restart the kernel to use updated packages.\n"
     ]
    }
   ],
   "source": [
    "pip install scikeras"
   ]
  },
  {
   "cell_type": "code",
   "execution_count": 3,
   "metadata": {},
   "outputs": [
    {
     "name": "stdout",
     "output_type": "stream",
     "text": [
      "Collecting textblob\n",
      "  Downloading textblob-0.18.0.post0-py3-none-any.whl (626 kB)\n",
      "\u001b[K     |████████████████████████████████| 626 kB 363 kB/s eta 0:00:01\n",
      "\u001b[?25hCollecting nltk>=3.8\n",
      "  Downloading nltk-3.8.1-py3-none-any.whl (1.5 MB)\n",
      "\u001b[K     |████████████████████████████████| 1.5 MB 30.7 MB/s eta 0:00:01\n",
      "\u001b[?25hRequirement already satisfied: tqdm in /Users/calvinomwega/anaconda3/envs/learn-env/lib/python3.8/site-packages (from nltk>=3.8->textblob) (4.50.2)\n",
      "Requirement already satisfied: joblib in /Users/calvinomwega/anaconda3/envs/learn-env/lib/python3.8/site-packages (from nltk>=3.8->textblob) (1.4.2)\n",
      "Requirement already satisfied: click in /Users/calvinomwega/anaconda3/envs/learn-env/lib/python3.8/site-packages (from nltk>=3.8->textblob) (7.1.2)\n",
      "Collecting regex>=2021.8.3\n",
      "  Downloading regex-2024.5.15-cp38-cp38-macosx_10_9_x86_64.whl (281 kB)\n",
      "\u001b[K     |████████████████████████████████| 281 kB 4.4 MB/s eta 0:00:01\n",
      "\u001b[?25hInstalling collected packages: regex, nltk, textblob\n",
      "  Attempting uninstall: regex\n",
      "    Found existing installation: regex 2020.10.11\n",
      "    Uninstalling regex-2020.10.11:\n",
      "      Successfully uninstalled regex-2020.10.11\n",
      "  Attempting uninstall: nltk\n",
      "    Found existing installation: nltk 3.5\n",
      "    Uninstalling nltk-3.5:\n",
      "      Successfully uninstalled nltk-3.5\n",
      "Successfully installed nltk-3.8.1 regex-2024.5.15 textblob-0.18.0.post0\n",
      "Note: you may need to restart the kernel to use updated packages.\n"
     ]
    }
   ],
   "source": [
    "pip install textblob"
   ]
  },
  {
   "cell_type": "code",
   "execution_count": 4,
   "metadata": {},
   "outputs": [
    {
     "ename": "ImportError",
     "evalue": "SciKeras requires TensorFlow >= 2.7.0.",
     "output_type": "error",
     "traceback": [
      "\u001b[0;31m---------------------------------------------------------------------------\u001b[0m",
      "\u001b[0;31mImportError\u001b[0m                               Traceback (most recent call last)",
      "\u001b[0;32m<ipython-input-4-1cba35a129e4>\u001b[0m in \u001b[0;36m<module>\u001b[0;34m\u001b[0m\n\u001b[1;32m     22\u001b[0m \u001b[0;32mfrom\u001b[0m \u001b[0mkeras\u001b[0m\u001b[0;34m.\u001b[0m\u001b[0mlayers\u001b[0m \u001b[0;32mimport\u001b[0m \u001b[0mEmbedding\u001b[0m\u001b[0;34m,\u001b[0m \u001b[0mLSTM\u001b[0m\u001b[0;34m,\u001b[0m \u001b[0mDense\u001b[0m\u001b[0;34m\u001b[0m\u001b[0;34m\u001b[0m\u001b[0m\n\u001b[1;32m     23\u001b[0m \u001b[0;32mfrom\u001b[0m \u001b[0mkeras\u001b[0m\u001b[0;34m.\u001b[0m\u001b[0moptimizers\u001b[0m \u001b[0;32mimport\u001b[0m \u001b[0mAdam\u001b[0m\u001b[0;34m\u001b[0m\u001b[0;34m\u001b[0m\u001b[0m\n\u001b[0;32m---> 24\u001b[0;31m \u001b[0;32mfrom\u001b[0m \u001b[0mscikeras\u001b[0m\u001b[0;34m.\u001b[0m\u001b[0mwrappers\u001b[0m \u001b[0;32mimport\u001b[0m \u001b[0mKerasClassifier\u001b[0m\u001b[0;34m\u001b[0m\u001b[0;34m\u001b[0m\u001b[0m\n\u001b[0m",
      "\u001b[0;32m~/anaconda3/envs/learn-env/lib/python3.8/site-packages/scikeras/__init__.py\u001b[0m in \u001b[0;36m<module>\u001b[0;34m\u001b[0m\n\u001b[1;32m     22\u001b[0m \u001b[0;32melse\u001b[0m\u001b[0;34m:\u001b[0m\u001b[0;34m\u001b[0m\u001b[0;34m\u001b[0m\u001b[0m\n\u001b[1;32m     23\u001b[0m     \u001b[0;32mif\u001b[0m \u001b[0mversion\u001b[0m\u001b[0;34m.\u001b[0m\u001b[0mparse\u001b[0m\u001b[0;34m(\u001b[0m\u001b[0mtf_version\u001b[0m\u001b[0;34m)\u001b[0m \u001b[0;34m<\u001b[0m \u001b[0mversion\u001b[0m\u001b[0;34m.\u001b[0m\u001b[0mparse\u001b[0m\u001b[0;34m(\u001b[0m\u001b[0mMIN_TF_VERSION\u001b[0m\u001b[0;34m)\u001b[0m\u001b[0;34m:\u001b[0m  \u001b[0;31m# pragma: no cover\u001b[0m\u001b[0;34m\u001b[0m\u001b[0;34m\u001b[0m\u001b[0m\n\u001b[0;32m---> 24\u001b[0;31m         \u001b[0;32mraise\u001b[0m \u001b[0mImportError\u001b[0m\u001b[0;34m(\u001b[0m\u001b[0mTF_VERSION_ERR\u001b[0m\u001b[0;34m)\u001b[0m \u001b[0;32mfrom\u001b[0m \u001b[0;32mNone\u001b[0m\u001b[0;34m\u001b[0m\u001b[0;34m\u001b[0m\u001b[0m\n\u001b[0m\u001b[1;32m     25\u001b[0m \u001b[0;34m\u001b[0m\u001b[0m\n\u001b[1;32m     26\u001b[0m \u001b[0;32mimport\u001b[0m \u001b[0mtensorflow\u001b[0m\u001b[0;34m.\u001b[0m\u001b[0mkeras\u001b[0m \u001b[0;32mas\u001b[0m \u001b[0m_keras\u001b[0m  \u001b[0;31m# noqa: E402\u001b[0m\u001b[0;34m\u001b[0m\u001b[0;34m\u001b[0m\u001b[0m\n",
      "\u001b[0;31mImportError\u001b[0m: SciKeras requires TensorFlow >= 2.7.0."
     ]
    }
   ],
   "source": [
    "#libraries \n",
    "# import necessary libraries\n",
    "import re\n",
    "import string\n",
    "import nltk\n",
    "import pandas as pd\n",
    "import numpy as np\n",
    "from textblob import TextBlob\n",
    "from collections import Counter\n",
    "import matplotlib.pyplot as plt\n",
    "from nltk.corpus import stopwords\n",
    "from tensorflow.keras.preprocessing.text import Tokenizer\n",
    "from sklearn.feature_extraction.text import TfidfVectorizer\n",
    "from keras.utils import to_categorical\n",
    "from tensorflow.keras.preprocessing.sequence import pad_sequences\n",
    "from sklearn.model_selection import train_test_split\n",
    "from keras.preprocessing.sequence import pad_sequences\n",
    "from keras.layers import Embedding, LSTM, Dense, GRU\n",
    "from keras.models import Sequential\n",
    "from sklearn.model_selection import GridSearchCV\n",
    "from keras.models import Sequential\n",
    "from keras.layers import Embedding, LSTM, Dense\n",
    "from keras.optimizers import Adam\n",
    "from scikeras.wrappers import KerasClassifier "
   ]
  },
  {
   "cell_type": "code",
   "execution_count": 5,
   "metadata": {},
   "outputs": [
    {
     "data": {
      "text/html": [
       "<div>\n",
       "<style scoped>\n",
       "    .dataframe tbody tr th:only-of-type {\n",
       "        vertical-align: middle;\n",
       "    }\n",
       "\n",
       "    .dataframe tbody tr th {\n",
       "        vertical-align: top;\n",
       "    }\n",
       "\n",
       "    .dataframe thead th {\n",
       "        text-align: right;\n",
       "    }\n",
       "</style>\n",
       "<table border=\"1\" class=\"dataframe\">\n",
       "  <thead>\n",
       "    <tr style=\"text-align: right;\">\n",
       "      <th></th>\n",
       "      <th>tweet_text</th>\n",
       "      <th>emotion_in_tweet_is_directed_at</th>\n",
       "      <th>is_there_an_emotion_directed_at_a_brand_or_product</th>\n",
       "    </tr>\n",
       "  </thead>\n",
       "  <tbody>\n",
       "    <tr>\n",
       "      <th>0</th>\n",
       "      <td>.@wesley83 I have a 3G iPhone. After 3 hrs twe...</td>\n",
       "      <td>iPhone</td>\n",
       "      <td>Negative emotion</td>\n",
       "    </tr>\n",
       "    <tr>\n",
       "      <th>1</th>\n",
       "      <td>@jessedee Know about @fludapp ? Awesome iPad/i...</td>\n",
       "      <td>iPad or iPhone App</td>\n",
       "      <td>Positive emotion</td>\n",
       "    </tr>\n",
       "    <tr>\n",
       "      <th>2</th>\n",
       "      <td>@swonderlin Can not wait for #iPad 2 also. The...</td>\n",
       "      <td>iPad</td>\n",
       "      <td>Positive emotion</td>\n",
       "    </tr>\n",
       "    <tr>\n",
       "      <th>3</th>\n",
       "      <td>@sxsw I hope this year's festival isn't as cra...</td>\n",
       "      <td>iPad or iPhone App</td>\n",
       "      <td>Negative emotion</td>\n",
       "    </tr>\n",
       "    <tr>\n",
       "      <th>4</th>\n",
       "      <td>@sxtxstate great stuff on Fri #SXSW: Marissa M...</td>\n",
       "      <td>Google</td>\n",
       "      <td>Positive emotion</td>\n",
       "    </tr>\n",
       "  </tbody>\n",
       "</table>\n",
       "</div>"
      ],
      "text/plain": [
       "                                          tweet_text  \\\n",
       "0  .@wesley83 I have a 3G iPhone. After 3 hrs twe...   \n",
       "1  @jessedee Know about @fludapp ? Awesome iPad/i...   \n",
       "2  @swonderlin Can not wait for #iPad 2 also. The...   \n",
       "3  @sxsw I hope this year's festival isn't as cra...   \n",
       "4  @sxtxstate great stuff on Fri #SXSW: Marissa M...   \n",
       "\n",
       "  emotion_in_tweet_is_directed_at  \\\n",
       "0                          iPhone   \n",
       "1              iPad or iPhone App   \n",
       "2                            iPad   \n",
       "3              iPad or iPhone App   \n",
       "4                          Google   \n",
       "\n",
       "  is_there_an_emotion_directed_at_a_brand_or_product  \n",
       "0                                   Negative emotion  \n",
       "1                                   Positive emotion  \n",
       "2                                   Positive emotion  \n",
       "3                                   Negative emotion  \n",
       "4                                   Positive emotion  "
      ]
     },
     "execution_count": 5,
     "metadata": {},
     "output_type": "execute_result"
    }
   ],
   "source": [
    "import pandas as pd\n",
    "\n",
    "# Load the dataset\n",
    "df = pd.read_csv('judge_1377884607_tweet_product_company.csv')\n",
    "df.head()"
   ]
  },
  {
   "cell_type": "code",
   "execution_count": 6,
   "metadata": {},
   "outputs": [
    {
     "data": {
      "text/plain": [
       "(8721, 3)"
      ]
     },
     "execution_count": 6,
     "metadata": {},
     "output_type": "execute_result"
    }
   ],
   "source": [
    "df.shape"
   ]
  },
  {
   "cell_type": "code",
   "execution_count": 7,
   "metadata": {},
   "outputs": [
    {
     "name": "stdout",
     "output_type": "stream",
     "text": [
      "Column Names:\n",
      "['tweet_text', 'emotion_in_tweet_is_directed_at', 'is_there_an_emotion_directed_at_a_brand_or_product']\n",
      "\n",
      "\n",
      "Data Types:\n",
      "tweet_text                                            object\n",
      "emotion_in_tweet_is_directed_at                       object\n",
      "is_there_an_emotion_directed_at_a_brand_or_product    object\n",
      "dtype: object\n",
      "\n",
      "\n",
      "Shape of the DataFrame:\n",
      "Rows: 8721, Columns: 3\n",
      "\n",
      "\n",
      "DataFrame Info:\n",
      "<class 'pandas.core.frame.DataFrame'>\n",
      "RangeIndex: 8721 entries, 0 to 8720\n",
      "Data columns (total 3 columns):\n",
      " #   Column                                              Non-Null Count  Dtype \n",
      "---  ------                                              --------------  ----- \n",
      " 0   tweet_text                                          8720 non-null   object\n",
      " 1   emotion_in_tweet_is_directed_at                     3169 non-null   object\n",
      " 2   is_there_an_emotion_directed_at_a_brand_or_product  8721 non-null   object\n",
      "dtypes: object(3)\n",
      "memory usage: 204.5+ KB\n",
      "\n",
      "\n",
      "Descriptive Statistics:\n",
      "                                               tweet_text  \\\n",
      "count                                                8720   \n",
      "unique                                               8693   \n",
      "top     RT @mention Marissa Mayer: Google Will Connect...   \n",
      "freq                                                    5   \n",
      "\n",
      "       emotion_in_tweet_is_directed_at  \\\n",
      "count                             3169   \n",
      "unique                               9   \n",
      "top                               iPad   \n",
      "freq                               910   \n",
      "\n",
      "       is_there_an_emotion_directed_at_a_brand_or_product  \n",
      "count                                                8721  \n",
      "unique                                                  4  \n",
      "top                    No emotion toward brand or product  \n",
      "freq                                                 5156  \n",
      "\n",
      "\n",
      "Missing Values (Percentage):\n",
      "tweet_text                                             0.011467\n",
      "emotion_in_tweet_is_directed_at                       63.662424\n",
      "is_there_an_emotion_directed_at_a_brand_or_product     0.000000\n",
      "dtype: float64\n",
      "\n",
      "\n",
      "Categorical Data Summary:\n",
      "                                               tweet_text  \\\n",
      "count                                                8720   \n",
      "unique                                               8693   \n",
      "top     RT @mention Marissa Mayer: Google Will Connect...   \n",
      "freq                                                    5   \n",
      "\n",
      "       emotion_in_tweet_is_directed_at  \\\n",
      "count                             3169   \n",
      "unique                               9   \n",
      "top                               iPad   \n",
      "freq                               910   \n",
      "\n",
      "       is_there_an_emotion_directed_at_a_brand_or_product  \n",
      "count                                                8721  \n",
      "unique                                                  4  \n",
      "top                    No emotion toward brand or product  \n",
      "freq                                                 5156  \n",
      "\n",
      "\n",
      "Value Counts for Categorical Columns:\n",
      "Column: tweet_text\n",
      "RT @mention Marissa Mayer: Google Will Connect the Digital &amp; Physical Worlds Through Mobile - {link} #sxsw                                    5\n",
      "RT @mention Google to Launch Major New Social Network Called Circles, Possibly Today {link} #sxsw                                                 4\n",
      "RT @mention Marissa Mayer: Google Will Connect the Digital &amp; Physical Worlds Through Mobile - {link} #SXSW                                    4\n",
      "RT @mention Google to Launch Major New Social Network Called Circles, Possibly Today {link} #SXSW                                                 3\n",
      "RT @mention ��� Happy Woman's Day! Make love, not fuss! ��_ {link} ��_ #edchat #musedchat #sxsw #sxswi #classical #newTwitter                     2\n",
      "                                                                                                                                                 ..\n",
      "Anyone got any news on the #Google Circles social networking announcement at #sxsw ?                                                              1\n",
      "Yikes, reached a new level of Apple-fanboyism last night: literally fell asleep with a MacBook Pro, iPad 2, &amp; iPhone 4 on top of me. #SXSW    1\n",
      "@mention be sure to use our FREE App for checking out the bands at #SXSW! {link}                                                                  1\n",
      "Beautifully smart and simple idea RT @madebymany @thenextweb wrote about our #hollergram iPad app for #sxsw! http://bit.ly/ieaVOB                 1\n",
      "NaN                                                                                                                                               1\n",
      "Name: tweet_text, Length: 8694, dtype: int64\n",
      "\n",
      "\n",
      "Column: emotion_in_tweet_is_directed_at\n",
      "NaN                                5552\n",
      "iPad                                910\n",
      "Apple                               640\n",
      "iPad or iPhone App                  451\n",
      "Google                              412\n",
      "iPhone                              288\n",
      "Other Google product or service     282\n",
      "Android App                          78\n",
      "Android                              74\n",
      "Other Apple product or service       34\n",
      "Name: emotion_in_tweet_is_directed_at, dtype: int64\n",
      "\n",
      "\n",
      "Column: is_there_an_emotion_directed_at_a_brand_or_product\n",
      "No emotion toward brand or product    5156\n",
      "Positive emotion                      2869\n",
      "Negative emotion                       545\n",
      "I can't tell                           151\n",
      "Name: is_there_an_emotion_directed_at_a_brand_or_product, dtype: int64\n",
      "\n",
      "\n"
     ]
    }
   ],
   "source": [
    "def explore_dataset(df):\n",
    "    # Display column names\n",
    "    print(\"Column Names:\")\n",
    "    print(df.columns.tolist())\n",
    "    print(\"\\n\")\n",
    "\n",
    "    # Display data types\n",
    "    print(\"Data Types:\")\n",
    "    print(df.dtypes)\n",
    "    print(\"\\n\")\n",
    "\n",
    "    # Display number of rows and columns\n",
    "    print(\"Shape of the DataFrame:\")\n",
    "    print(f\"Rows: {df.shape[0]}, Columns: {df.shape[1]}\")\n",
    "    print(\"\\n\")\n",
    "\n",
    "    # DataFrame info\n",
    "    print(\"DataFrame Info:\")\n",
    "    df.info()\n",
    "    print(\"\\n\")\n",
    "\n",
    "    # Descriptive statistics for numerical columns\n",
    "    print(\"Descriptive Statistics:\")\n",
    "    print(df.describe())\n",
    "    print(\"\\n\")\n",
    "\n",
    "    # Missing values summary\n",
    "    print(\"Missing Values (Percentage):\")\n",
    "    missing_values_percentage = (df.isnull().sum() / len(df)) * 100\n",
    "    print(missing_values_percentage)\n",
    "    print(\"\\n\")\n",
    "\n",
    "    # Display summary statistics for categorical columns\n",
    "    print(\"Categorical Data Summary:\")\n",
    "    categorical_summary = df.select_dtypes(include=['object']).describe()\n",
    "    print(categorical_summary)\n",
    "    print(\"\\n\")\n",
    "\n",
    "    # Value counts for categorical columns\n",
    "    print(\"Value Counts for Categorical Columns:\")\n",
    "    for column in df.select_dtypes(include=['object']).columns:\n",
    "        print(f\"Column: {column}\")\n",
    "        print(df[column].value_counts(dropna=False))\n",
    "        print(\"\\n\")\n",
    "\n",
    "explore_dataset(df)"
   ]
  },
  {
   "cell_type": "code",
   "execution_count": 8,
   "metadata": {},
   "outputs": [],
   "source": [
    "df.dropna(subset=['tweet_text'], inplace=True)"
   ]
  },
  {
   "cell_type": "markdown",
   "metadata": {},
   "source": [
    "Removing URLs"
   ]
  },
  {
   "cell_type": "code",
   "execution_count": 9,
   "metadata": {},
   "outputs": [
    {
     "data": {
      "text/html": [
       "<div>\n",
       "<style scoped>\n",
       "    .dataframe tbody tr th:only-of-type {\n",
       "        vertical-align: middle;\n",
       "    }\n",
       "\n",
       "    .dataframe tbody tr th {\n",
       "        vertical-align: top;\n",
       "    }\n",
       "\n",
       "    .dataframe thead th {\n",
       "        text-align: right;\n",
       "    }\n",
       "</style>\n",
       "<table border=\"1\" class=\"dataframe\">\n",
       "  <thead>\n",
       "    <tr style=\"text-align: right;\">\n",
       "      <th></th>\n",
       "      <th>tweet_text</th>\n",
       "      <th>cleaned_text</th>\n",
       "    </tr>\n",
       "  </thead>\n",
       "  <tbody>\n",
       "    <tr>\n",
       "      <th>0</th>\n",
       "      <td>.@wesley83 I have a 3G iPhone. After 3 hrs twe...</td>\n",
       "      <td>.@wesley83 I have a 3G iPhone. After 3 hrs twe...</td>\n",
       "    </tr>\n",
       "    <tr>\n",
       "      <th>1</th>\n",
       "      <td>@jessedee Know about @fludapp ? Awesome iPad/i...</td>\n",
       "      <td>@jessedee Know about @fludapp ? Awesome iPad/i...</td>\n",
       "    </tr>\n",
       "    <tr>\n",
       "      <th>2</th>\n",
       "      <td>@swonderlin Can not wait for #iPad 2 also. The...</td>\n",
       "      <td>@swonderlin Can not wait for #iPad 2 also. The...</td>\n",
       "    </tr>\n",
       "    <tr>\n",
       "      <th>3</th>\n",
       "      <td>@sxsw I hope this year's festival isn't as cra...</td>\n",
       "      <td>@sxsw I hope this year's festival isn't as cra...</td>\n",
       "    </tr>\n",
       "    <tr>\n",
       "      <th>4</th>\n",
       "      <td>@sxtxstate great stuff on Fri #SXSW: Marissa M...</td>\n",
       "      <td>@sxtxstate great stuff on Fri #SXSW: Marissa M...</td>\n",
       "    </tr>\n",
       "  </tbody>\n",
       "</table>\n",
       "</div>"
      ],
      "text/plain": [
       "                                          tweet_text  \\\n",
       "0  .@wesley83 I have a 3G iPhone. After 3 hrs twe...   \n",
       "1  @jessedee Know about @fludapp ? Awesome iPad/i...   \n",
       "2  @swonderlin Can not wait for #iPad 2 also. The...   \n",
       "3  @sxsw I hope this year's festival isn't as cra...   \n",
       "4  @sxtxstate great stuff on Fri #SXSW: Marissa M...   \n",
       "\n",
       "                                        cleaned_text  \n",
       "0  .@wesley83 I have a 3G iPhone. After 3 hrs twe...  \n",
       "1  @jessedee Know about @fludapp ? Awesome iPad/i...  \n",
       "2  @swonderlin Can not wait for #iPad 2 also. The...  \n",
       "3  @sxsw I hope this year's festival isn't as cra...  \n",
       "4  @sxtxstate great stuff on Fri #SXSW: Marissa M...  "
      ]
     },
     "execution_count": 9,
     "metadata": {},
     "output_type": "execute_result"
    }
   ],
   "source": [
    "import re\n",
    "\n",
    "def remove_urls(text):\n",
    "    url_pattern = re.compile(r'https?://\\S+|www\\.\\S+')\n",
    "    return url_pattern.sub(r'', text)\n",
    "\n",
    "# Apply the function to the tweet column\n",
    "df['cleaned_text'] = df['tweet_text'].apply(remove_urls)\n",
    "\n",
    "# Display the first few rows to verify the changes\n",
    "df[['tweet_text', 'cleaned_text']].head()\n"
   ]
  },
  {
   "cell_type": "markdown",
   "metadata": {},
   "source": [
    "Removing special characters"
   ]
  },
  {
   "cell_type": "code",
   "execution_count": 10,
   "metadata": {},
   "outputs": [
    {
     "data": {
      "text/html": [
       "<div>\n",
       "<style scoped>\n",
       "    .dataframe tbody tr th:only-of-type {\n",
       "        vertical-align: middle;\n",
       "    }\n",
       "\n",
       "    .dataframe tbody tr th {\n",
       "        vertical-align: top;\n",
       "    }\n",
       "\n",
       "    .dataframe thead th {\n",
       "        text-align: right;\n",
       "    }\n",
       "</style>\n",
       "<table border=\"1\" class=\"dataframe\">\n",
       "  <thead>\n",
       "    <tr style=\"text-align: right;\">\n",
       "      <th></th>\n",
       "      <th>tweet_text</th>\n",
       "      <th>cleaned_text</th>\n",
       "    </tr>\n",
       "  </thead>\n",
       "  <tbody>\n",
       "    <tr>\n",
       "      <th>0</th>\n",
       "      <td>.@wesley83 I have a 3G iPhone. After 3 hrs twe...</td>\n",
       "      <td>wesley83 I have a 3G iPhone After 3 hrs tweeti...</td>\n",
       "    </tr>\n",
       "    <tr>\n",
       "      <th>1</th>\n",
       "      <td>@jessedee Know about @fludapp ? Awesome iPad/i...</td>\n",
       "      <td>jessedee Know about fludapp  Awesome iPadiPhon...</td>\n",
       "    </tr>\n",
       "    <tr>\n",
       "      <th>2</th>\n",
       "      <td>@swonderlin Can not wait for #iPad 2 also. The...</td>\n",
       "      <td>swonderlin Can not wait for iPad 2 also They s...</td>\n",
       "    </tr>\n",
       "    <tr>\n",
       "      <th>3</th>\n",
       "      <td>@sxsw I hope this year's festival isn't as cra...</td>\n",
       "      <td>sxsw I hope this years festival isnt as crashy...</td>\n",
       "    </tr>\n",
       "    <tr>\n",
       "      <th>4</th>\n",
       "      <td>@sxtxstate great stuff on Fri #SXSW: Marissa M...</td>\n",
       "      <td>sxtxstate great stuff on Fri SXSW Marissa Maye...</td>\n",
       "    </tr>\n",
       "  </tbody>\n",
       "</table>\n",
       "</div>"
      ],
      "text/plain": [
       "                                          tweet_text  \\\n",
       "0  .@wesley83 I have a 3G iPhone. After 3 hrs twe...   \n",
       "1  @jessedee Know about @fludapp ? Awesome iPad/i...   \n",
       "2  @swonderlin Can not wait for #iPad 2 also. The...   \n",
       "3  @sxsw I hope this year's festival isn't as cra...   \n",
       "4  @sxtxstate great stuff on Fri #SXSW: Marissa M...   \n",
       "\n",
       "                                        cleaned_text  \n",
       "0  wesley83 I have a 3G iPhone After 3 hrs tweeti...  \n",
       "1  jessedee Know about fludapp  Awesome iPadiPhon...  \n",
       "2  swonderlin Can not wait for iPad 2 also They s...  \n",
       "3  sxsw I hope this years festival isnt as crashy...  \n",
       "4  sxtxstate great stuff on Fri SXSW Marissa Maye...  "
      ]
     },
     "execution_count": 10,
     "metadata": {},
     "output_type": "execute_result"
    }
   ],
   "source": [
    "def remove_special_characters(text):\n",
    "    return re.sub(r'[^a-zA-Z0-9\\s]', '', text)\n",
    "\n",
    "# Apply the function to the cleaned_text column\n",
    "df['cleaned_text'] = df['cleaned_text'].apply(remove_special_characters)\n",
    "\n",
    "# Display the first few rows to verify the changes\n",
    "df[['tweet_text', 'cleaned_text']].head()"
   ]
  },
  {
   "cell_type": "markdown",
   "metadata": {},
   "source": [
    "Removing stopwords"
   ]
  },
  {
   "cell_type": "code",
   "execution_count": 11,
   "metadata": {},
   "outputs": [
    {
     "name": "stderr",
     "output_type": "stream",
     "text": [
      "[nltk_data] Downloading package stopwords to\n",
      "[nltk_data]     /Users/calvinomwega/nltk_data...\n",
      "[nltk_data]   Package stopwords is already up-to-date!\n"
     ]
    },
    {
     "data": {
      "text/html": [
       "<div>\n",
       "<style scoped>\n",
       "    .dataframe tbody tr th:only-of-type {\n",
       "        vertical-align: middle;\n",
       "    }\n",
       "\n",
       "    .dataframe tbody tr th {\n",
       "        vertical-align: top;\n",
       "    }\n",
       "\n",
       "    .dataframe thead th {\n",
       "        text-align: right;\n",
       "    }\n",
       "</style>\n",
       "<table border=\"1\" class=\"dataframe\">\n",
       "  <thead>\n",
       "    <tr style=\"text-align: right;\">\n",
       "      <th></th>\n",
       "      <th>tweet_text</th>\n",
       "      <th>cleaned_text</th>\n",
       "    </tr>\n",
       "  </thead>\n",
       "  <tbody>\n",
       "    <tr>\n",
       "      <th>0</th>\n",
       "      <td>.@wesley83 I have a 3G iPhone. After 3 hrs twe...</td>\n",
       "      <td>wesley83 3G iPhone 3 hrs tweeting RISEAustin d...</td>\n",
       "    </tr>\n",
       "    <tr>\n",
       "      <th>1</th>\n",
       "      <td>@jessedee Know about @fludapp ? Awesome iPad/i...</td>\n",
       "      <td>jessedee Know fludapp Awesome iPadiPhone app y...</td>\n",
       "    </tr>\n",
       "    <tr>\n",
       "      <th>2</th>\n",
       "      <td>@swonderlin Can not wait for #iPad 2 also. The...</td>\n",
       "      <td>swonderlin wait iPad 2 also sale SXSW</td>\n",
       "    </tr>\n",
       "    <tr>\n",
       "      <th>3</th>\n",
       "      <td>@sxsw I hope this year's festival isn't as cra...</td>\n",
       "      <td>sxsw hope years festival isnt crashy years iPh...</td>\n",
       "    </tr>\n",
       "    <tr>\n",
       "      <th>4</th>\n",
       "      <td>@sxtxstate great stuff on Fri #SXSW: Marissa M...</td>\n",
       "      <td>sxtxstate great stuff Fri SXSW Marissa Mayer G...</td>\n",
       "    </tr>\n",
       "  </tbody>\n",
       "</table>\n",
       "</div>"
      ],
      "text/plain": [
       "                                          tweet_text  \\\n",
       "0  .@wesley83 I have a 3G iPhone. After 3 hrs twe...   \n",
       "1  @jessedee Know about @fludapp ? Awesome iPad/i...   \n",
       "2  @swonderlin Can not wait for #iPad 2 also. The...   \n",
       "3  @sxsw I hope this year's festival isn't as cra...   \n",
       "4  @sxtxstate great stuff on Fri #SXSW: Marissa M...   \n",
       "\n",
       "                                        cleaned_text  \n",
       "0  wesley83 3G iPhone 3 hrs tweeting RISEAustin d...  \n",
       "1  jessedee Know fludapp Awesome iPadiPhone app y...  \n",
       "2              swonderlin wait iPad 2 also sale SXSW  \n",
       "3  sxsw hope years festival isnt crashy years iPh...  \n",
       "4  sxtxstate great stuff Fri SXSW Marissa Mayer G...  "
      ]
     },
     "execution_count": 11,
     "metadata": {},
     "output_type": "execute_result"
    }
   ],
   "source": [
    "import nltk\n",
    "from nltk.corpus import stopwords\n",
    "\n",
    "# Download stopwords from NLTK\n",
    "nltk.download('stopwords')\n",
    "stop_words = set(stopwords.words('english'))\n",
    "\n",
    "def remove_stopwords(text):\n",
    "    return ' '.join([word for word in text.split() if word.lower() not in stop_words])\n",
    "\n",
    "# Apply the function to the cleaned_text column\n",
    "df['cleaned_text'] = df['cleaned_text'].apply(remove_stopwords)\n",
    "\n",
    "# Display the first few rows to verify the changes\n",
    "df[['tweet_text', 'cleaned_text']].head()"
   ]
  },
  {
   "cell_type": "code",
   "execution_count": 12,
   "metadata": {},
   "outputs": [
    {
     "name": "stderr",
     "output_type": "stream",
     "text": [
      "[nltk_data] Downloading package punkt to\n",
      "[nltk_data]     /Users/calvinomwega/nltk_data...\n",
      "[nltk_data]   Unzipping tokenizers/punkt.zip.\n"
     ]
    },
    {
     "data": {
      "text/html": [
       "<div>\n",
       "<style scoped>\n",
       "    .dataframe tbody tr th:only-of-type {\n",
       "        vertical-align: middle;\n",
       "    }\n",
       "\n",
       "    .dataframe tbody tr th {\n",
       "        vertical-align: top;\n",
       "    }\n",
       "\n",
       "    .dataframe thead th {\n",
       "        text-align: right;\n",
       "    }\n",
       "</style>\n",
       "<table border=\"1\" class=\"dataframe\">\n",
       "  <thead>\n",
       "    <tr style=\"text-align: right;\">\n",
       "      <th></th>\n",
       "      <th>tweet_text</th>\n",
       "      <th>cleaned_text</th>\n",
       "      <th>tokens</th>\n",
       "    </tr>\n",
       "  </thead>\n",
       "  <tbody>\n",
       "    <tr>\n",
       "      <th>0</th>\n",
       "      <td>.@wesley83 I have a 3G iPhone. After 3 hrs twe...</td>\n",
       "      <td>wesley83 3G iPhone 3 hrs tweeting RISEAustin d...</td>\n",
       "      <td>[wesley83, 3G, iPhone, 3, hrs, tweeting, RISEA...</td>\n",
       "    </tr>\n",
       "    <tr>\n",
       "      <th>1</th>\n",
       "      <td>@jessedee Know about @fludapp ? Awesome iPad/i...</td>\n",
       "      <td>jessedee Know fludapp Awesome iPadiPhone app y...</td>\n",
       "      <td>[jessedee, Know, fludapp, Awesome, iPadiPhone,...</td>\n",
       "    </tr>\n",
       "    <tr>\n",
       "      <th>2</th>\n",
       "      <td>@swonderlin Can not wait for #iPad 2 also. The...</td>\n",
       "      <td>swonderlin wait iPad 2 also sale SXSW</td>\n",
       "      <td>[swonderlin, wait, iPad, 2, also, sale, SXSW]</td>\n",
       "    </tr>\n",
       "    <tr>\n",
       "      <th>3</th>\n",
       "      <td>@sxsw I hope this year's festival isn't as cra...</td>\n",
       "      <td>sxsw hope years festival isnt crashy years iPh...</td>\n",
       "      <td>[sxsw, hope, years, festival, isnt, crashy, ye...</td>\n",
       "    </tr>\n",
       "    <tr>\n",
       "      <th>4</th>\n",
       "      <td>@sxtxstate great stuff on Fri #SXSW: Marissa M...</td>\n",
       "      <td>sxtxstate great stuff Fri SXSW Marissa Mayer G...</td>\n",
       "      <td>[sxtxstate, great, stuff, Fri, SXSW, Marissa, ...</td>\n",
       "    </tr>\n",
       "  </tbody>\n",
       "</table>\n",
       "</div>"
      ],
      "text/plain": [
       "                                          tweet_text  \\\n",
       "0  .@wesley83 I have a 3G iPhone. After 3 hrs twe...   \n",
       "1  @jessedee Know about @fludapp ? Awesome iPad/i...   \n",
       "2  @swonderlin Can not wait for #iPad 2 also. The...   \n",
       "3  @sxsw I hope this year's festival isn't as cra...   \n",
       "4  @sxtxstate great stuff on Fri #SXSW: Marissa M...   \n",
       "\n",
       "                                        cleaned_text  \\\n",
       "0  wesley83 3G iPhone 3 hrs tweeting RISEAustin d...   \n",
       "1  jessedee Know fludapp Awesome iPadiPhone app y...   \n",
       "2              swonderlin wait iPad 2 also sale SXSW   \n",
       "3  sxsw hope years festival isnt crashy years iPh...   \n",
       "4  sxtxstate great stuff Fri SXSW Marissa Mayer G...   \n",
       "\n",
       "                                              tokens  \n",
       "0  [wesley83, 3G, iPhone, 3, hrs, tweeting, RISEA...  \n",
       "1  [jessedee, Know, fludapp, Awesome, iPadiPhone,...  \n",
       "2      [swonderlin, wait, iPad, 2, also, sale, SXSW]  \n",
       "3  [sxsw, hope, years, festival, isnt, crashy, ye...  \n",
       "4  [sxtxstate, great, stuff, Fri, SXSW, Marissa, ...  "
      ]
     },
     "execution_count": 12,
     "metadata": {},
     "output_type": "execute_result"
    }
   ],
   "source": [
    "from nltk.tokenize import word_tokenize\n",
    "\n",
    "# Download punkt for tokenization\n",
    "nltk.download('punkt')\n",
    "\n",
    "def tokenize_text(text):\n",
    "    return word_tokenize(text)\n",
    "\n",
    "# Apply the function to the cleaned_text column\n",
    "df['tokens'] = df['cleaned_text'].apply(tokenize_text)\n",
    "\n",
    "# Display the first few rows to verify the changes\n",
    "df[['tweet_text', 'cleaned_text', 'tokens']].head()\n"
   ]
  },
  {
   "cell_type": "code",
   "execution_count": 13,
   "metadata": {},
   "outputs": [
    {
     "name": "stdout",
     "output_type": "stream",
     "text": [
      "Counter({'Positive': 4299, 'Neutral': 3229, 'Negative': 1192})\n"
     ]
    }
   ],
   "source": [
    "# sentiment analysis\n",
    "\n",
    "# Function to perform sentiment analysis and create a frequency table\n",
    "def analyze_sentiments_and_plot_frequency(df, tweet_text):\n",
    "    # Creating a TextBlob object for each tweet and calculate sentiment\n",
    "    df['sentiment'] = df[tweet_text].apply(lambda x: TextBlob(x).sentiment.polarity)\n",
    "    \n",
    "    # Define sentiment labels\n",
    "    def get_sentiment_label(sentiment):\n",
    "        if sentiment > 0:\n",
    "            return 'Positive'\n",
    "        elif sentiment < 0:\n",
    "            return 'Negative'\n",
    "        else:\n",
    "            return 'Neutral'\n",
    "    \n",
    "    df['sentiment_label'] = df['sentiment'].apply(get_sentiment_label)\n",
    "    \n",
    "    # Create a frequency table for sentiment labels\n",
    "    sentiment_counts = Counter(df['sentiment_label'])\n",
    "    return sentiment_counts\n",
    "\n",
    "sentiment_counts = analyze_sentiments_and_plot_frequency(df, 'tweet_text')\n",
    "analyze_sentiments_and_plot_frequency(df, 'tweet_text')\n",
    "print(sentiment_counts)"
   ]
  },
  {
   "cell_type": "markdown",
   "metadata": {},
   "source": [
    "bar plot"
   ]
  },
  {
   "cell_type": "code",
   "execution_count": 14,
   "metadata": {},
   "outputs": [
    {
     "data": {
      "image/png": "[encoded data removed]",
      "text/plain": [
       "<Figure size 576x432 with 1 Axes>"
      ]
     },
     "metadata": {
      "needs_background": "light"
     },
     "output_type": "display_data"
    }
   ],
   "source": [
    "# Define colors for the bar plot\n",
    "colors = {\n",
    "    'Positive': '#9b7179',\n",
    "    'Negative': '#cda2aa',\n",
    "    'Neutral': '#e5b5be'\n",
    "}\n",
    "\n",
    "# Plot a bar graph for sentiment frequency with a legend\n",
    "plt.figure(figsize=(8, 6))\n",
    "bars = plt.bar(sentiment_counts.keys(), sentiment_counts.values(), color=[colors[label] for label in sentiment_counts.keys()])\n",
    "\n",
    "# Add legend\n",
    "for bar, label in zip(bars, sentiment_counts.keys()):\n",
    "    bar.set_label(label)\n",
    "plt.legend()\n",
    "\n",
    "plt.xlabel('Sentiment')\n",
    "plt.ylabel('Frequency')\n",
    "plt.title('Sentiment Analysis')\n",
    "plt.show()"
   ]
  },
  {
   "cell_type": "code",
   "execution_count": 16,
   "metadata": {},
   "outputs": [
    {
     "data": {
      "text/plain": [
       "(iPad                               910\n",
       " Apple                              640\n",
       " iPad or iPhone App                 451\n",
       " Google                             412\n",
       " iPhone                             288\n",
       " Other Google product or service    282\n",
       " Android App                         78\n",
       " Android                             74\n",
       " Other Apple product or service      34\n",
       " Name: emotion_in_tweet_is_directed_at, dtype: int64,\n",
       " is_there_an_emotion_directed_at_a_brand_or_product  I can't tell  \\\n",
       " emotion_in_tweet_is_directed_at                                    \n",
       " Android                                                        0   \n",
       " Android App                                                    0   \n",
       " Apple                                                          2   \n",
       " Google                                                         1   \n",
       " Other Apple product or service                                 0   \n",
       " Other Google product or service                                1   \n",
       " iPad                                                           4   \n",
       " iPad or iPhone App                                             0   \n",
       " iPhone                                                         1   \n",
       " \n",
       " is_there_an_emotion_directed_at_a_brand_or_product  Negative emotion  \\\n",
       " emotion_in_tweet_is_directed_at                                        \n",
       " Android                                                            8   \n",
       " Android App                                                        7   \n",
       " Apple                                                             92   \n",
       " Google                                                            63   \n",
       " Other Apple product or service                                     2   \n",
       " Other Google product or service                                   46   \n",
       " iPad                                                             120   \n",
       " iPad or iPhone App                                                60   \n",
       " iPhone                                                            98   \n",
       " \n",
       " is_there_an_emotion_directed_at_a_brand_or_product  No emotion toward brand or product  \\\n",
       " emotion_in_tweet_is_directed_at                                                          \n",
       " Android                                                                              1   \n",
       " Android App                                                                          1   \n",
       " Apple                                                                               20   \n",
       " Google                                                                              14   \n",
       " Other Apple product or service                                                       1   \n",
       " Other Google product or service                                                      9   \n",
       " iPad                                                                                22   \n",
       " iPad or iPhone App                                                                  10   \n",
       " iPhone                                                                               9   \n",
       " \n",
       " is_there_an_emotion_directed_at_a_brand_or_product  Positive emotion  \n",
       " emotion_in_tweet_is_directed_at                                       \n",
       " Android                                                           65  \n",
       " Android App                                                       70  \n",
       " Apple                                                            526  \n",
       " Google                                                           334  \n",
       " Other Apple product or service                                    31  \n",
       " Other Google product or service                                  226  \n",
       " iPad                                                             764  \n",
       " iPad or iPhone App                                               381  \n",
       " iPhone                                                           180  )"
      ]
     },
     "execution_count": 16,
     "metadata": {},
     "output_type": "execute_result"
    }
   ],
   "source": [
    "# Analyzing the most frequently mentioned brands/products\n",
    "brand_product_counts = df['emotion_in_tweet_is_directed_at'].value_counts().head(10)\n",
    "\n",
    "# Extracting sentiment counts for each of the top brands/products\n",
    "top_brands_products = brand_product_counts.index\n",
    "sentiment_by_brand = df[df['emotion_in_tweet_is_directed_at'].isin(top_brands_products)].groupby(['emotion_in_tweet_is_directed_at', 'is_there_an_emotion_directed_at_a_brand_or_product']).size().unstack(fill_value=0)\n",
    "\n",
    "brand_product_counts, sentiment_by_brand\n"
   ]
  },
  {
   "cell_type": "code",
   "execution_count": 18,
   "metadata": {},
   "outputs": [],
   "source": [
    "# from wordcloud import WordCloud\n",
    "# import matplotlib.pyplot as plt\n",
    "\n",
    "# # Separate the data into different sentiment categories\n",
    "# positive_tweets = df[df['is_there_an_emotion_directed_at_a_brand_or_product'] == 'Positive emotion']['tweet_text']\n",
    "# negative_tweets = df[df['is_there_an_emotion_directed_at_a_brand_or_product'] == 'Negative emotion']['tweet_text']\n",
    "# neutral_tweets = df[df['is_there_an_emotion_directed_at_a_brand_or_product'] == 'No emotion toward brand or product']['tweet_text']\n",
    "\n",
    "# # Generate word clouds for each sentiment\n",
    "# positive_wordcloud = WordCloud(width=800, height=400, background_color='white').generate(' '.join(positive_tweets))\n",
    "# negative_wordcloud = WordCloud(width=800, height=400, background_color='white').generate(' '.join(negative_tweets))\n",
    "# neutral_wordcloud = WordCloud(width=800, height=400, background_color='white').generate(' '.join(neutral_tweets))\n",
    "\n",
    "# # Plotting the word clouds\n",
    "# plt.figure(figsize=(15, 12))\n",
    "\n",
    "# plt.subplot(3, 1, 1)\n",
    "# plt.imshow(positive_wordcloud, interpolation='bilinear')\n",
    "# plt.title('Positive Sentiment Word Cloud')\n",
    "# plt.axis('off')\n",
    "\n",
    "# plt.subplot(3, 1, 2)\n",
    "# plt.imshow(negative_wordcloud, interpolation='bilinear')\n",
    "# plt.title('Negative Sentiment Word Cloud')\n",
    "# plt.axis('off')\n",
    "\n",
    "# plt.subplot(3, 1, 3)\n",
    "# plt.imshow(neutral_wordcloud, interpolation='bilinear')\n",
    "# plt.title('Neutral Sentiment Word Cloud')\n",
    "# plt.axis('off')\n",
    "\n",
    "# plt.tight_layout()\n",
    "# plt.show()\n"
   ]
  },
  {
   "cell_type": "code",
   "execution_count": 19,
   "metadata": {},
   "outputs": [
    {
     "data": {
      "text/plain": [
       "(is_there_an_emotion_directed_at_a_brand_or_product  I can't tell  \\\n",
       " emotion_in_tweet_is_directed_at                                    \n",
       " Android                                                        0   \n",
       " Android App                                                    0   \n",
       " Apple                                                          2   \n",
       " Google                                                         1   \n",
       " Other Apple product or service                                 0   \n",
       " Other Google product or service                                1   \n",
       " iPad                                                           4   \n",
       " iPad or iPhone App                                             0   \n",
       " iPhone                                                         1   \n",
       " \n",
       " is_there_an_emotion_directed_at_a_brand_or_product  Negative emotion  \\\n",
       " emotion_in_tweet_is_directed_at                                        \n",
       " Android                                                            8   \n",
       " Android App                                                        7   \n",
       " Apple                                                             92   \n",
       " Google                                                            63   \n",
       " Other Apple product or service                                     2   \n",
       " Other Google product or service                                   46   \n",
       " iPad                                                             120   \n",
       " iPad or iPhone App                                                60   \n",
       " iPhone                                                            98   \n",
       " \n",
       " is_there_an_emotion_directed_at_a_brand_or_product  No emotion toward brand or product  \\\n",
       " emotion_in_tweet_is_directed_at                                                          \n",
       " Android                                                                              1   \n",
       " Android App                                                                          1   \n",
       " Apple                                                                               20   \n",
       " Google                                                                              14   \n",
       " Other Apple product or service                                                       1   \n",
       " Other Google product or service                                                      9   \n",
       " iPad                                                                                22   \n",
       " iPad or iPhone App                                                                  10   \n",
       " iPhone                                                                               9   \n",
       " \n",
       " is_there_an_emotion_directed_at_a_brand_or_product  Positive emotion  \n",
       " emotion_in_tweet_is_directed_at                                       \n",
       " Android                                                           65  \n",
       " Android App                                                       70  \n",
       " Apple                                                            526  \n",
       " Google                                                           334  \n",
       " Other Apple product or service                                    31  \n",
       " Other Google product or service                                  226  \n",
       " iPad                                                             764  \n",
       " iPad or iPhone App                                               381  \n",
       " iPhone                                                           180  ,\n",
       " is_there_an_emotion_directed_at_a_brand_or_product  I can't tell  \\\n",
       " emotion_in_tweet_is_directed_at                                    \n",
       " Android                                                 0.000000   \n",
       " Android App                                             0.000000   \n",
       " Apple                                                   0.312500   \n",
       " Google                                                  0.242718   \n",
       " Other Apple product or service                          0.000000   \n",
       " Other Google product or service                         0.354610   \n",
       " iPad                                                    0.439560   \n",
       " iPad or iPhone App                                      0.000000   \n",
       " iPhone                                                  0.347222   \n",
       " \n",
       " is_there_an_emotion_directed_at_a_brand_or_product  Negative emotion  \\\n",
       " emotion_in_tweet_is_directed_at                                        \n",
       " Android                                                    10.810811   \n",
       " Android App                                                 8.974359   \n",
       " Apple                                                      14.375000   \n",
       " Google                                                     15.291262   \n",
       " Other Apple product or service                              5.882353   \n",
       " Other Google product or service                            16.312057   \n",
       " iPad                                                       13.186813   \n",
       " iPad or iPhone App                                         13.303769   \n",
       " iPhone                                                     34.027778   \n",
       " \n",
       " is_there_an_emotion_directed_at_a_brand_or_product  No emotion toward brand or product  \\\n",
       " emotion_in_tweet_is_directed_at                                                          \n",
       " Android                                                                       1.351351   \n",
       " Android App                                                                   1.282051   \n",
       " Apple                                                                         3.125000   \n",
       " Google                                                                        3.398058   \n",
       " Other Apple product or service                                                2.941176   \n",
       " Other Google product or service                                               3.191489   \n",
       " iPad                                                                          2.417582   \n",
       " iPad or iPhone App                                                            2.217295   \n",
       " iPhone                                                                        3.125000   \n",
       " \n",
       " is_there_an_emotion_directed_at_a_brand_or_product  Positive emotion  \n",
       " emotion_in_tweet_is_directed_at                                       \n",
       " Android                                                    87.837838  \n",
       " Android App                                                89.743590  \n",
       " Apple                                                      82.187500  \n",
       " Google                                                     81.067961  \n",
       " Other Apple product or service                             91.176471  \n",
       " Other Google product or service                            80.141844  \n",
       " iPad                                                       83.956044  \n",
       " iPad or iPhone App                                         84.478936  \n",
       " iPhone                                                     62.500000  )"
      ]
     },
     "execution_count": 19,
     "metadata": {},
     "output_type": "execute_result"
    }
   ],
   "source": [
    "# Create a pivot table to analyze the sentiment distribution for each top brand/product\n",
    "sentiment_pivot = df[df['emotion_in_tweet_is_directed_at'].isin(top_brands_products)].pivot_table(index='emotion_in_tweet_is_directed_at', columns='is_there_an_emotion_directed_at_a_brand_or_product', aggfunc='size', fill_value=0)\n",
    "\n",
    "# Normalize the pivot table to see the percentage distribution of sentiments for each brand/product\n",
    "sentiment_pivot_percentage = sentiment_pivot.div(sentiment_pivot.sum(axis=1), axis=0) * 100\n",
    "\n",
    "sentiment_pivot, sentiment_pivot_percentage\n"
   ]
  },
  {
   "cell_type": "markdown",
   "metadata": {},
   "source": [
    "## EDA "
   ]
  },
  {
   "cell_type": "code",
   "execution_count": 21,
   "metadata": {},
   "outputs": [
    {
     "data": {
      "image/png": "[encoded data removed]",
      "text/plain": [
       "<Figure size 432x288 with 1 Axes>"
      ]
     },
     "metadata": {
      "needs_background": "light"
     },
     "output_type": "display_data"
    }
   ],
   "source": [
    "import matplotlib.pyplot as plt\n",
    "\n",
    "# Sentiment distribution across all tweets\n",
    "sentiment_counts_all = df['is_there_an_emotion_directed_at_a_brand_or_product'].value_counts()\n",
    "sentiment_counts_all.plot(kind='bar', color=['#ff9999','#66b3ff','#99ff99','#ffcc99'])\n",
    "plt.title('Overall Sentiment Distribution')\n",
    "plt.xlabel('Sentiment')\n",
    "plt.ylabel('Number of Tweets')\n",
    "plt.xticks(rotation=45)\n",
    "plt.show()"
   ]
  },
  {
   "cell_type": "markdown",
   "metadata": {},
   "source": [
    "Overall Sentiment Distribution: \n",
    "\n",
    "This bar chart shows the number of tweets expressing each type of sentiment (Positive, Negative, No Emotion, I Can't Tell).\n",
    "\n",
    "The largest category is \"No emotion toward brand or product,\" indicating that many tweets do not express a clear sentiment about a brand or product.\n",
    "\n",
    "\"Positive emotion\" is the second largest category, followed by \"Negative emotion.\" This suggests that, among tweets with a clear sentiment, positive emotions are more prevalent than negative ones.\n",
    "\n",
    "The \"I can't tell\" category represents tweets where the sentiment could not be determined."
   ]
  },
  {
   "cell_type": "code",
   "execution_count": 22,
   "metadata": {},
   "outputs": [
    {
     "data": {
      "image/png": "[encoded data removed]",
      "text/plain": [
       "<Figure size 720x432 with 1 Axes>"
      ]
     },
     "metadata": {
      "needs_background": "light"
     },
     "output_type": "display_data"
    }
   ],
   "source": [
    "# Top brands/products with sentiment breakdown\n",
    "sentiment_pivot_percentage.plot(kind='bar', stacked=True, figsize=(10, 6), color=['#ff9999','#66b3ff','#99ff99','#ffcc99'])\n",
    "plt.title('Sentiment Distribution by Brand/Product')\n",
    "plt.xlabel('Brand/Product')\n",
    "plt.ylabel('Percentage of Tweets')\n",
    "plt.xticks(rotation=45)\n",
    "plt.legend(title='Sentiment')\n",
    "plt.show()"
   ]
  },
  {
   "cell_type": "markdown",
   "metadata": {},
   "source": [
    "Sentiment Distribution by Brand/Product: \n",
    "\n",
    "This stacked bar chart displays the percentage distribution of sentiments (Positive, Negative, No Emotion, I Can't Tell) for the top brands/products mentioned in the dataset.\n",
    "\n",
    "For most brands/products, \"Positive emotion\" occupies a significant portion, indicating that positive sentiments are more common. For example, \"iPad\" and \"Apple\" have high percentages of positive sentiment.\n",
    "\n",
    "The \"Unknown\" category has a high percentage of \"No emotion toward brand or product,\" suggesting that these tweets do not specifically mention any brand or product despite being part of the dataset.\n",
    "\n",
    "\"Negative emotion\" is present but less common than positive sentiment across most brands/products, with notable exceptions like \"iPhone,\" which has a relatively higher percentage of negative sentiment."
   ]
  },
  {
   "cell_type": "markdown",
   "metadata": {},
   "source": [
    "## Further Analysis \n",
    "\n",
    "Sentiment vs. Product Category\n",
    "\n"
   ]
  },
  {
   "cell_type": "code",
   "execution_count": 24,
   "metadata": {},
   "outputs": [
    {
     "data": {
      "text/plain": [
       "(is_there_an_emotion_directed_at_a_brand_or_product  I can't tell  \\\n",
       " category                                                           \n",
       " Apple                                                          7   \n",
       " Google                                                         2   \n",
       " Other                                                        142   \n",
       " \n",
       " is_there_an_emotion_directed_at_a_brand_or_product  Negative emotion  \\\n",
       " category                                                               \n",
       " Apple                                                            372   \n",
       " Google                                                           124   \n",
       " Other                                                             49   \n",
       " \n",
       " is_there_an_emotion_directed_at_a_brand_or_product  No emotion toward brand or product  \\\n",
       " category                                                                                 \n",
       " Apple                                                                               62   \n",
       " Google                                                                              25   \n",
       " Other                                                                             5068   \n",
       " \n",
       " is_there_an_emotion_directed_at_a_brand_or_product  Positive emotion  \n",
       " category                                                              \n",
       " Apple                                                           1882  \n",
       " Google                                                           695  \n",
       " Other                                                            292  ,\n",
       " is_there_an_emotion_directed_at_a_brand_or_product  I can't tell  \\\n",
       " category                                                           \n",
       " Apple                                                   0.301334   \n",
       " Google                                                  0.236407   \n",
       " Other                                                   2.558098   \n",
       " \n",
       " is_there_an_emotion_directed_at_a_brand_or_product  Negative emotion  \\\n",
       " category                                                               \n",
       " Apple                                                      16.013775   \n",
       " Google                                                     14.657210   \n",
       " Other                                                       0.882724   \n",
       " \n",
       " is_there_an_emotion_directed_at_a_brand_or_product  No emotion toward brand or product  \\\n",
       " category                                                                                 \n",
       " Apple                                                                         2.668963   \n",
       " Google                                                                        2.955083   \n",
       " Other                                                                        91.298865   \n",
       " \n",
       " is_there_an_emotion_directed_at_a_brand_or_product  Positive emotion  \n",
       " category                                                              \n",
       " Apple                                                      81.015928  \n",
       " Google                                                     82.151300  \n",
       " Other                                                       5.260313  )"
      ]
     },
     "execution_count": 24,
     "metadata": {},
     "output_type": "execute_result"
    }
   ],
   "source": [
    "# Creating a mapping of products to categories based on brand/product names\n",
    "category_mapping = {\n",
    "    'iPad': 'Apple',\n",
    "    'Apple': 'Apple',\n",
    "    'iPad or iPhone App': 'Apple',\n",
    "    'Google': 'Google',\n",
    "    'iPhone': 'Apple',\n",
    "    'Other Google product or service': 'Google',\n",
    "    'Android App': 'Google',\n",
    "    'Android': 'Google',\n",
    "    'Other Apple product or service': 'Apple',\n",
    "    'Unknown': 'Unknown'\n",
    "}\n",
    "\n",
    "# Applying the mapping to create a new column for categories\n",
    "df['category'] = df['emotion_in_tweet_is_directed_at'].map(category_mapping).fillna('Other')\n",
    "\n",
    "# Calculating sentiment distribution by category\n",
    "sentiment_by_category = df.groupby(['category', 'is_there_an_emotion_directed_at_a_brand_or_product']).size().unstack(fill_value=0)\n",
    "\n",
    "# Normalizing to get percentages\n",
    "sentiment_by_category_percentage = sentiment_by_category.div(sentiment_by_category.sum(axis=1), axis=0) * 100\n",
    "\n",
    "sentiment_by_category, sentiment_by_category_percentage\n"
   ]
  },
  {
   "cell_type": "code",
   "execution_count": 25,
   "metadata": {},
   "outputs": [
    {
     "data": {
      "image/png": "[encoded data removed]",
      "text/plain": [
       "<Figure size 720x432 with 1 Axes>"
      ]
     },
     "metadata": {
      "needs_background": "light"
     },
     "output_type": "display_data"
    }
   ],
   "source": [
    "# Visualizing the sentiment distribution by category\n",
    "\n",
    "# Setting up the color scheme for the chart\n",
    "colors = ['#ff9999','#66b3ff','#99ff99','#ffcc99']\n",
    "\n",
    "# Plotting the stacked bar chart\n",
    "sentiment_by_category_percentage.plot(kind='bar', stacked=True, figsize=(10, 6), color=colors)\n",
    "plt.title('Sentiment Distribution by Category')\n",
    "plt.xlabel('Category')\n",
    "plt.ylabel('Percentage of Tweets')\n",
    "plt.xticks(rotation=45)\n",
    "plt.legend(title='Sentiment')\n",
    "plt.tight_layout()\n",
    "plt.show()\n"
   ]
  },
  {
   "cell_type": "markdown",
   "metadata": {},
   "source": [
    "## Insights"
   ]
  },
  {
   "cell_type": "markdown",
   "metadata": {},
   "source": [
    "Apple Products: A significant majority of the tweets express positive sentiments (81.02%), with a smaller proportion being negative (16.01%). This indicates a generally favorable public perception.\n",
    "\n",
    "Google Products: Similar to Apple, the majority of tweets are positive (82.15%), with a smaller percentage being negative (14.66%). This suggests that Google products are also well-regarded.\n",
    "\n",
    "Unknown Category: Most tweets in this category have no specific emotion directed at a brand/product, which may include generic comments or non-specific discussions.\n",
    "\n",
    "These findings show a generally positive sentiment towards both Apple and Google products, with a notable proportion of neutral or non-specific tweets."
   ]
  },
  {
   "cell_type": "markdown",
   "metadata": {},
   "source": []
  }
 ],
 "metadata": {
  "kernelspec": {
   "display_name": "learn-env",
   "language": "python",
   "name": "python3"
  },
  "language_info": {
   "codemirror_mode": {
    "name": "ipython",
    "version": 3
   },
   "file_extension": ".py",
   "mimetype": "text/x-python",
   "name": "python",
   "nbconvert_exporter": "python",
   "pygments_lexer": "ipython3",
   "version": "3.8.5"
  }
 },
 "nbformat": 4,
 "nbformat_minor": 2
}
